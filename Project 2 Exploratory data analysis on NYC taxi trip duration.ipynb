{
 "cells": [
  {
   "cell_type": "markdown",
   "id": "cd59d464",
   "metadata": {},
   "source": [
    "   ### EXPLORATORY DATA ANALYSIS ON NYC TAXI TRIP DURATION ###\n"
   ]
  },
  {
   "cell_type": "markdown",
   "id": "033d0023",
   "metadata": {},
   "source": [
    "<img src=\"https://www.brickunderground.com/sites/default/files/styles/new_blog_entry_primary_image_xl/public/blog/images/4859177053_c3fb190917_o.webp\" >"
   ]
  },
  {
   "cell_type": "markdown",
   "id": "484b97ca",
   "metadata": {},
   "source": [
    "### Importing libraries ###\n"
   ]
  },
  {
   "cell_type": "code",
   "execution_count": 1,
   "id": "c5d92fba",
   "metadata": {},
   "outputs": [],
   "source": [
    "%matplotlib inline\n",
    "import pandas as pd\n",
    "import numpy as np\n",
    "import matplotlib.pyplot as plt\n",
    "import seaborn as sns\n",
    "import geopy.distance\n",
    "import warnings\n",
    "from datetime import timedelta\n",
    "import datetime as dt\n",
    "warnings.filterwarnings('ignore')"
   ]
  },
  {
   "cell_type": "markdown",
   "id": "83176fe5",
   "metadata": {},
   "source": [
    "## Import data ##\n"
   ]
  },
  {
   "cell_type": "code",
   "execution_count": 2,
   "id": "afcb85cd",
   "metadata": {},
   "outputs": [],
   "source": [
    "data = pd.read_csv('nyc_taxi_trip_duration.csv')\n"
   ]
  },
  {
   "cell_type": "markdown",
   "id": "cce9d566",
   "metadata": {},
   "source": [
    "### STRUCTURE OF DATA AND CONTENT ###"
   ]
  },
  {
   "cell_type": "code",
   "execution_count": 3,
   "id": "8e60ecd4",
   "metadata": {},
   "outputs": [
    {
     "data": {
      "text/plain": [
       "(729322, 11)"
      ]
     },
     "execution_count": 3,
     "metadata": {},
     "output_type": "execute_result"
    }
   ],
   "source": [
    "data.shape\n"
   ]
  },
  {
   "cell_type": "markdown",
   "id": "729dc5ab",
   "metadata": {},
   "source": [
    "#### we can see that there are 729322 rows and 11 columns ####\n",
    "\n"
   ]
  },
  {
   "cell_type": "markdown",
   "id": "956a887b",
   "metadata": {},
   "source": [
    "## Data collection ##\n",
    "\n"
   ]
  },
  {
   "cell_type": "markdown",
   "id": "681c4488",
   "metadata": {},
   "source": [
    "The variables present are listed as follows :\n",
    "\n",
    "\n",
    " - **id** - a unique identifier for each trip\n",
    " - **vendor_id** - a code indicating the provider associated with the trip record\n",
    " - **pickup_datetime** - date and time when the meter was engaged\n",
    " - **dropoff_datetime** - date and time when the meter was disengaged\n",
    " - **passenger_count** - the number of passengers in the vehicle (driver entered value)\n",
    " - **pickup_longitude** - the longitude where the meter was engaged\n",
    " - **pickup_latitude** - the latitude where the meter was engaged\n",
    " - **dropoff_longitude** - the longitude where the meter was disengaged\n",
    " - **dropoff_latitude** - the latitude where the meter was disengaged\n",
    " - **store_and_fwd_flag** - This flag indicates whether the trip record was held in vehicle memory before sending to the vendor because the vehicle did not have a connection to the server (Y=store and forward; N=not a store and forward trip)\n",
    " - **trip_duration** - (target) duration of the trip in seconds\n",
    "\n",
    " \n",
    " \n",
    " It is to be noted that the dropoff_datetime and store_and_fwd_flag are not present at the start of the journey "
   ]
  },
  {
   "cell_type": "markdown",
   "id": "94490664",
   "metadata": {},
   "source": [
    " #### Checking the columns for what all variables are present and it can be confirmed that we have all the variables  as mentioned in the project ####"
   ]
  },
  {
   "cell_type": "code",
   "execution_count": 4,
   "id": "5e0bb55a",
   "metadata": {},
   "outputs": [
    {
     "data": {
      "text/plain": [
       "Index(['id', 'vendor_id', 'pickup_datetime', 'dropoff_datetime',\n",
       "       'passenger_count', 'pickup_longitude', 'pickup_latitude',\n",
       "       'dropoff_longitude', 'dropoff_latitude', 'store_and_fwd_flag',\n",
       "       'trip_duration'],\n",
       "      dtype='object')"
      ]
     },
     "execution_count": 4,
     "metadata": {},
     "output_type": "execute_result"
    }
   ],
   "source": [
    "data.columns"
   ]
  },
  {
   "cell_type": "markdown",
   "id": "f5259db8",
   "metadata": {},
   "source": [
    "### Looking at the data we can see what all datatypes that are present and get a general overview ###"
   ]
  },
  {
   "cell_type": "code",
   "execution_count": 5,
   "id": "2638d9de",
   "metadata": {
    "scrolled": true
   },
   "outputs": [
    {
     "data": {
      "text/plain": [
       "id                     object\n",
       "vendor_id               int64\n",
       "pickup_datetime        object\n",
       "dropoff_datetime       object\n",
       "passenger_count         int64\n",
       "pickup_longitude      float64\n",
       "pickup_latitude       float64\n",
       "dropoff_longitude     float64\n",
       "dropoff_latitude      float64\n",
       "store_and_fwd_flag     object\n",
       "trip_duration           int64\n",
       "dtype: object"
      ]
     },
     "execution_count": 5,
     "metadata": {},
     "output_type": "execute_result"
    }
   ],
   "source": [
    "# a view of datatypes that are present\n",
    "data.dtypes"
   ]
  },
  {
   "cell_type": "code",
   "execution_count": 6,
   "id": "ad09765b",
   "metadata": {
    "scrolled": true
   },
   "outputs": [
    {
     "data": {
      "text/html": [
       "<div>\n",
       "<style scoped>\n",
       "    .dataframe tbody tr th:only-of-type {\n",
       "        vertical-align: middle;\n",
       "    }\n",
       "\n",
       "    .dataframe tbody tr th {\n",
       "        vertical-align: top;\n",
       "    }\n",
       "\n",
       "    .dataframe thead th {\n",
       "        text-align: right;\n",
       "    }\n",
       "</style>\n",
       "<table border=\"1\" class=\"dataframe\">\n",
       "  <thead>\n",
       "    <tr style=\"text-align: right;\">\n",
       "      <th></th>\n",
       "      <th>id</th>\n",
       "      <th>vendor_id</th>\n",
       "      <th>pickup_datetime</th>\n",
       "      <th>dropoff_datetime</th>\n",
       "      <th>passenger_count</th>\n",
       "      <th>pickup_longitude</th>\n",
       "      <th>pickup_latitude</th>\n",
       "      <th>dropoff_longitude</th>\n",
       "      <th>dropoff_latitude</th>\n",
       "      <th>store_and_fwd_flag</th>\n",
       "      <th>trip_duration</th>\n",
       "    </tr>\n",
       "  </thead>\n",
       "  <tbody>\n",
       "    <tr>\n",
       "      <th>0</th>\n",
       "      <td>id1080784</td>\n",
       "      <td>2</td>\n",
       "      <td>2016-02-29 16:40:21</td>\n",
       "      <td>2016-02-29 16:47:01</td>\n",
       "      <td>1</td>\n",
       "      <td>-73.953918</td>\n",
       "      <td>40.778873</td>\n",
       "      <td>-73.963875</td>\n",
       "      <td>40.771164</td>\n",
       "      <td>N</td>\n",
       "      <td>400</td>\n",
       "    </tr>\n",
       "    <tr>\n",
       "      <th>1</th>\n",
       "      <td>id0889885</td>\n",
       "      <td>1</td>\n",
       "      <td>2016-03-11 23:35:37</td>\n",
       "      <td>2016-03-11 23:53:57</td>\n",
       "      <td>2</td>\n",
       "      <td>-73.988312</td>\n",
       "      <td>40.731743</td>\n",
       "      <td>-73.994751</td>\n",
       "      <td>40.694931</td>\n",
       "      <td>N</td>\n",
       "      <td>1100</td>\n",
       "    </tr>\n",
       "    <tr>\n",
       "      <th>2</th>\n",
       "      <td>id0857912</td>\n",
       "      <td>2</td>\n",
       "      <td>2016-02-21 17:59:33</td>\n",
       "      <td>2016-02-21 18:26:48</td>\n",
       "      <td>2</td>\n",
       "      <td>-73.997314</td>\n",
       "      <td>40.721458</td>\n",
       "      <td>-73.948029</td>\n",
       "      <td>40.774918</td>\n",
       "      <td>N</td>\n",
       "      <td>1635</td>\n",
       "    </tr>\n",
       "    <tr>\n",
       "      <th>3</th>\n",
       "      <td>id3744273</td>\n",
       "      <td>2</td>\n",
       "      <td>2016-01-05 09:44:31</td>\n",
       "      <td>2016-01-05 10:03:32</td>\n",
       "      <td>6</td>\n",
       "      <td>-73.961670</td>\n",
       "      <td>40.759720</td>\n",
       "      <td>-73.956779</td>\n",
       "      <td>40.780628</td>\n",
       "      <td>N</td>\n",
       "      <td>1141</td>\n",
       "    </tr>\n",
       "    <tr>\n",
       "      <th>4</th>\n",
       "      <td>id0232939</td>\n",
       "      <td>1</td>\n",
       "      <td>2016-02-17 06:42:23</td>\n",
       "      <td>2016-02-17 06:56:31</td>\n",
       "      <td>1</td>\n",
       "      <td>-74.017120</td>\n",
       "      <td>40.708469</td>\n",
       "      <td>-73.988182</td>\n",
       "      <td>40.740631</td>\n",
       "      <td>N</td>\n",
       "      <td>848</td>\n",
       "    </tr>\n",
       "  </tbody>\n",
       "</table>\n",
       "</div>"
      ],
      "text/plain": [
       "          id  vendor_id      pickup_datetime     dropoff_datetime  \\\n",
       "0  id1080784          2  2016-02-29 16:40:21  2016-02-29 16:47:01   \n",
       "1  id0889885          1  2016-03-11 23:35:37  2016-03-11 23:53:57   \n",
       "2  id0857912          2  2016-02-21 17:59:33  2016-02-21 18:26:48   \n",
       "3  id3744273          2  2016-01-05 09:44:31  2016-01-05 10:03:32   \n",
       "4  id0232939          1  2016-02-17 06:42:23  2016-02-17 06:56:31   \n",
       "\n",
       "   passenger_count  pickup_longitude  pickup_latitude  dropoff_longitude  \\\n",
       "0                1        -73.953918        40.778873         -73.963875   \n",
       "1                2        -73.988312        40.731743         -73.994751   \n",
       "2                2        -73.997314        40.721458         -73.948029   \n",
       "3                6        -73.961670        40.759720         -73.956779   \n",
       "4                1        -74.017120        40.708469         -73.988182   \n",
       "\n",
       "   dropoff_latitude store_and_fwd_flag  trip_duration  \n",
       "0         40.771164                  N            400  \n",
       "1         40.694931                  N           1100  \n",
       "2         40.774918                  N           1635  \n",
       "3         40.780628                  N           1141  \n",
       "4         40.740631                  N            848  "
      ]
     },
     "execution_count": 6,
     "metadata": {},
     "output_type": "execute_result"
    }
   ],
   "source": [
    "# sample of first 5 rows to understand how values are represented\n",
    "data.head()"
   ]
  },
  {
   "cell_type": "code",
   "execution_count": 7,
   "id": "e7105756",
   "metadata": {},
   "outputs": [
    {
     "data": {
      "text/html": [
       "<div>\n",
       "<style scoped>\n",
       "    .dataframe tbody tr th:only-of-type {\n",
       "        vertical-align: middle;\n",
       "    }\n",
       "\n",
       "    .dataframe tbody tr th {\n",
       "        vertical-align: top;\n",
       "    }\n",
       "\n",
       "    .dataframe thead th {\n",
       "        text-align: right;\n",
       "    }\n",
       "</style>\n",
       "<table border=\"1\" class=\"dataframe\">\n",
       "  <thead>\n",
       "    <tr style=\"text-align: right;\">\n",
       "      <th></th>\n",
       "      <th>id</th>\n",
       "      <th>vendor_id</th>\n",
       "      <th>pickup_datetime</th>\n",
       "      <th>dropoff_datetime</th>\n",
       "      <th>passenger_count</th>\n",
       "      <th>pickup_longitude</th>\n",
       "      <th>pickup_latitude</th>\n",
       "      <th>dropoff_longitude</th>\n",
       "      <th>dropoff_latitude</th>\n",
       "      <th>store_and_fwd_flag</th>\n",
       "      <th>trip_duration</th>\n",
       "    </tr>\n",
       "  </thead>\n",
       "  <tbody>\n",
       "    <tr>\n",
       "      <th>729317</th>\n",
       "      <td>id3905982</td>\n",
       "      <td>2</td>\n",
       "      <td>2016-05-21 13:29:38</td>\n",
       "      <td>2016-05-21 13:34:34</td>\n",
       "      <td>2</td>\n",
       "      <td>-73.965919</td>\n",
       "      <td>40.789780</td>\n",
       "      <td>-73.952637</td>\n",
       "      <td>40.789181</td>\n",
       "      <td>N</td>\n",
       "      <td>296</td>\n",
       "    </tr>\n",
       "    <tr>\n",
       "      <th>729318</th>\n",
       "      <td>id0102861</td>\n",
       "      <td>1</td>\n",
       "      <td>2016-02-22 00:43:11</td>\n",
       "      <td>2016-02-22 00:48:26</td>\n",
       "      <td>1</td>\n",
       "      <td>-73.996666</td>\n",
       "      <td>40.737434</td>\n",
       "      <td>-74.001320</td>\n",
       "      <td>40.731911</td>\n",
       "      <td>N</td>\n",
       "      <td>315</td>\n",
       "    </tr>\n",
       "    <tr>\n",
       "      <th>729319</th>\n",
       "      <td>id0439699</td>\n",
       "      <td>1</td>\n",
       "      <td>2016-04-15 18:56:48</td>\n",
       "      <td>2016-04-15 19:08:01</td>\n",
       "      <td>1</td>\n",
       "      <td>-73.997849</td>\n",
       "      <td>40.761696</td>\n",
       "      <td>-74.001488</td>\n",
       "      <td>40.741207</td>\n",
       "      <td>N</td>\n",
       "      <td>673</td>\n",
       "    </tr>\n",
       "    <tr>\n",
       "      <th>729320</th>\n",
       "      <td>id2078912</td>\n",
       "      <td>1</td>\n",
       "      <td>2016-06-19 09:50:47</td>\n",
       "      <td>2016-06-19 09:58:14</td>\n",
       "      <td>1</td>\n",
       "      <td>-74.006706</td>\n",
       "      <td>40.708244</td>\n",
       "      <td>-74.013550</td>\n",
       "      <td>40.713814</td>\n",
       "      <td>N</td>\n",
       "      <td>447</td>\n",
       "    </tr>\n",
       "    <tr>\n",
       "      <th>729321</th>\n",
       "      <td>id1053441</td>\n",
       "      <td>2</td>\n",
       "      <td>2016-01-01 17:24:16</td>\n",
       "      <td>2016-01-01 17:44:40</td>\n",
       "      <td>4</td>\n",
       "      <td>-74.003342</td>\n",
       "      <td>40.743839</td>\n",
       "      <td>-73.945847</td>\n",
       "      <td>40.712841</td>\n",
       "      <td>N</td>\n",
       "      <td>1224</td>\n",
       "    </tr>\n",
       "  </tbody>\n",
       "</table>\n",
       "</div>"
      ],
      "text/plain": [
       "               id  vendor_id      pickup_datetime     dropoff_datetime  \\\n",
       "729317  id3905982          2  2016-05-21 13:29:38  2016-05-21 13:34:34   \n",
       "729318  id0102861          1  2016-02-22 00:43:11  2016-02-22 00:48:26   \n",
       "729319  id0439699          1  2016-04-15 18:56:48  2016-04-15 19:08:01   \n",
       "729320  id2078912          1  2016-06-19 09:50:47  2016-06-19 09:58:14   \n",
       "729321  id1053441          2  2016-01-01 17:24:16  2016-01-01 17:44:40   \n",
       "\n",
       "        passenger_count  pickup_longitude  pickup_latitude  dropoff_longitude  \\\n",
       "729317                2        -73.965919        40.789780         -73.952637   \n",
       "729318                1        -73.996666        40.737434         -74.001320   \n",
       "729319                1        -73.997849        40.761696         -74.001488   \n",
       "729320                1        -74.006706        40.708244         -74.013550   \n",
       "729321                4        -74.003342        40.743839         -73.945847   \n",
       "\n",
       "        dropoff_latitude store_and_fwd_flag  trip_duration  \n",
       "729317         40.789181                  N            296  \n",
       "729318         40.731911                  N            315  \n",
       "729319         40.741207                  N            673  \n",
       "729320         40.713814                  N            447  \n",
       "729321         40.712841                  N           1224  "
      ]
     },
     "execution_count": 7,
     "metadata": {},
     "output_type": "execute_result"
    }
   ],
   "source": [
    "# sample of last 5 rows to recognise any trends\n",
    "data.tail()"
   ]
  },
  {
   "cell_type": "code",
   "execution_count": null,
   "id": "732d5fac",
   "metadata": {},
   "outputs": [],
   "source": []
  },
  {
   "cell_type": "markdown",
   "id": "bafa318a",
   "metadata": {},
   "source": [
    "## REFORMATTING FEATURES AND CHECKING CONSISTENCY ##"
   ]
  },
  {
   "cell_type": "markdown",
   "id": "c2833843",
   "metadata": {},
   "source": [
    "## Checking for missing values ##"
   ]
  },
  {
   "cell_type": "code",
   "execution_count": 8,
   "id": "3e7b6807",
   "metadata": {},
   "outputs": [
    {
     "data": {
      "text/plain": [
       "id                    0\n",
       "vendor_id             0\n",
       "pickup_datetime       0\n",
       "dropoff_datetime      0\n",
       "passenger_count       0\n",
       "pickup_longitude      0\n",
       "pickup_latitude       0\n",
       "dropoff_longitude     0\n",
       "dropoff_latitude      0\n",
       "store_and_fwd_flag    0\n",
       "trip_duration         0\n",
       "dtype: int64"
      ]
     },
     "execution_count": 8,
     "metadata": {},
     "output_type": "execute_result"
    }
   ],
   "source": [
    "data.isnull().sum()"
   ]
  },
  {
   "cell_type": "markdown",
   "id": "3c4e5c1d",
   "metadata": {},
   "source": [
    "**There is no null values present hence we dont have to assign any values**\n"
   ]
  },
  {
   "cell_type": "markdown",
   "id": "62501a9f",
   "metadata": {},
   "source": [
    "### Analysing each variable datatypes"
   ]
  },
  {
   "cell_type": "code",
   "execution_count": 9,
   "id": "13c59a98",
   "metadata": {},
   "outputs": [
    {
     "data": {
      "text/plain": [
       "vendor_id          int64\n",
       "passenger_count    int64\n",
       "trip_duration      int64\n",
       "dtype: object"
      ]
     },
     "execution_count": 9,
     "metadata": {},
     "output_type": "execute_result"
    }
   ],
   "source": [
    "# INTEGER DATATYPE\n",
    "\n",
    "data.dtypes[data.dtypes == 'int64']"
   ]
  },
  {
   "cell_type": "markdown",
   "id": "81743bb6",
   "metadata": {},
   "source": [
    "**observations:**\n",
    "\n",
    "**vendor_id** are the provider identification thus it is considered categorical\n",
    "\n",
    "**passenger_count** can be take as categorical for better analysis\n",
    "\n",
    "**trip_duration** are numbers hence they are also fall in integer category"
   ]
  },
  {
   "cell_type": "code",
   "execution_count": 10,
   "id": "831666e7",
   "metadata": {},
   "outputs": [],
   "source": [
    "# typecasting passenger count to category\n",
    "data['passenger_count'] = data['passenger_count'].astype('category')\n"
   ]
  },
  {
   "cell_type": "code",
   "execution_count": 11,
   "id": "b3c747c3",
   "metadata": {
    "scrolled": true
   },
   "outputs": [
    {
     "data": {
      "text/plain": [
       "pickup_longitude     float64\n",
       "pickup_latitude      float64\n",
       "dropoff_longitude    float64\n",
       "dropoff_latitude     float64\n",
       "dtype: object"
      ]
     },
     "execution_count": 11,
     "metadata": {},
     "output_type": "execute_result"
    }
   ],
   "source": [
    "# FLOAT DATATYPE\n",
    "data.dtypes[data.dtypes == 'float64']"
   ]
  },
  {
   "cell_type": "markdown",
   "id": "91cc19e5",
   "metadata": {},
   "source": [
    "**observations:**\n",
    "\n",
    "**pickup_longitude, pickup_latitude, dropoff_longitude, dropoff_latitude** are suited to in float datatype"
   ]
  },
  {
   "cell_type": "code",
   "execution_count": 12,
   "id": "21e131fa",
   "metadata": {
    "scrolled": true
   },
   "outputs": [
    {
     "data": {
      "text/plain": [
       "id                    object\n",
       "pickup_datetime       object\n",
       "dropoff_datetime      object\n",
       "store_and_fwd_flag    object\n",
       "dtype: object"
      ]
     },
     "execution_count": 12,
     "metadata": {},
     "output_type": "execute_result"
    }
   ],
   "source": [
    "# OBJECT DATATYPE\n",
    "data.dtypes[data.dtypes == 'object']"
   ]
  },
  {
   "cell_type": "markdown",
   "id": "4a41ae6d",
   "metadata": {},
   "source": [
    "**Observations:**\n",
    "\n",
    "**id** is a unique variable with numerical parts and id written at front and I choose to treat it as an object itself\n",
    "\n",
    "**pickup_datetime and dropoff_datetime** are datetime variable\n",
    "\n",
    "**store_and_fwd_flag** can be grouped under categorical"
   ]
  },
  {
   "cell_type": "code",
   "execution_count": 13,
   "id": "157052ec",
   "metadata": {},
   "outputs": [],
   "source": [
    "# typecasting store_and_fwd_flag to category\n",
    "data['store_and_fwd_flag'] = data['store_and_fwd_flag'].astype('category')"
   ]
  },
  {
   "cell_type": "code",
   "execution_count": 14,
   "id": "88bb7363",
   "metadata": {
    "scrolled": true
   },
   "outputs": [],
   "source": [
    "# Convert into datetime DATA TYPE from strings\n",
    "data['pickup_datetime'] = pd.to_datetime(data['pickup_datetime'])\n",
    "data['dropoff_datetime'] = pd.to_datetime(data['dropoff_datetime'])"
   ]
  },
  {
   "cell_type": "code",
   "execution_count": 15,
   "id": "f7c60d6c",
   "metadata": {
    "scrolled": true
   },
   "outputs": [],
   "source": [
    "#function to find the distance traversed\n",
    "def calc_distance(df):\n",
    "    pickup = (df['pickup_latitude'], df['pickup_longitude'])\n",
    "    drop = (df['dropoff_latitude'], df['dropoff_longitude'])\n",
    "    return geopy.distance.distance(pickup, drop).km"
   ]
  },
  {
   "cell_type": "code",
   "execution_count": 16,
   "id": "409bf24d",
   "metadata": {},
   "outputs": [],
   "source": [
    "#adding distance column in the dataframe\n",
    "data['distance'] = data.apply(lambda x: calc_distance(x), axis = 1)"
   ]
  },
  {
   "cell_type": "code",
   "execution_count": 17,
   "id": "e1caf8b5",
   "metadata": {},
   "outputs": [],
   "source": [
    "#calculating the data and imputing the speed into the dataframe\n",
    "data['speed'] = (data.distance/(data.trip_duration/3600))"
   ]
  },
  {
   "cell_type": "code",
   "execution_count": 18,
   "id": "7feeefd6",
   "metadata": {},
   "outputs": [],
   "source": [
    "#for heat map later\n",
    "datacp = data"
   ]
  },
  {
   "cell_type": "code",
   "execution_count": 19,
   "id": "9d725563",
   "metadata": {},
   "outputs": [],
   "source": [
    "#Using datetime to find and create new columns - day_name , month, day_num, pickup_hour\n",
    "\n",
    "data['day_name'] = data.pickup_datetime.dt.day_name()\n",
    "data['month'] = data.pickup_datetime.dt.month\n",
    "data['day_num'] = data.pickup_datetime.dt.weekday\n",
    "data['pickup_hour'] = data.pickup_datetime.dt.hour"
   ]
  },
  {
   "cell_type": "code",
   "execution_count": 20,
   "id": "7283974b",
   "metadata": {},
   "outputs": [],
   "source": [
    "#typecasting month, day_num, pickup_hour to category\n",
    "data['month'] = data['month'].astype('category')\n",
    "data['day_num'] = data['day_num'].astype('category')\n",
    "data['pickup_hour'] = data['pickup_hour'].astype('category')"
   ]
  },
  {
   "cell_type": "code",
   "execution_count": 21,
   "id": "04360edd",
   "metadata": {},
   "outputs": [
    {
     "data": {
      "text/plain": [
       "id                            object\n",
       "vendor_id                      int64\n",
       "pickup_datetime       datetime64[ns]\n",
       "dropoff_datetime      datetime64[ns]\n",
       "passenger_count             category\n",
       "pickup_longitude             float64\n",
       "pickup_latitude              float64\n",
       "dropoff_longitude            float64\n",
       "dropoff_latitude             float64\n",
       "store_and_fwd_flag          category\n",
       "trip_duration                  int64\n",
       "distance                     float64\n",
       "speed                        float64\n",
       "day_name                      object\n",
       "month                       category\n",
       "day_num                     category\n",
       "pickup_hour                 category\n",
       "dtype: object"
      ]
     },
     "execution_count": 21,
     "metadata": {},
     "output_type": "execute_result"
    }
   ],
   "source": [
    "#the variable datatypes are analysed\n",
    "data.dtypes"
   ]
  },
  {
   "cell_type": "code",
   "execution_count": 22,
   "id": "f351b135",
   "metadata": {},
   "outputs": [],
   "source": [
    "#all the categorical variable are converted to numerical\n",
    "\n",
    "dummy = pd.get_dummies(data.store_and_fwd_flag, prefix='flag')\n",
    "data = pd.concat([data,dummy], axis = 1)\n",
    "\n",
    "dummy = pd.get_dummies(data.vendor_id, prefix='vendor_id')\n",
    "data = pd.concat([data,dummy], axis = 1)\n",
    "\n",
    "dummy = pd.get_dummies(data.month, prefix='month')\n",
    "data = pd.concat([data,dummy], axis = 1)\n",
    "\n",
    "dummy = pd.get_dummies(data.day_num, prefix='day_num')\n",
    "data = pd.concat([data,dummy], axis = 1)\n",
    "\n",
    "dummy = pd.get_dummies(data.pickup_hour, prefix='pickup_hour')\n",
    "data = pd.concat([data,dummy], axis = 1)\n",
    "\n",
    "dummy = pd.get_dummies(data.passenger_count, prefix='passenger_count')\n",
    "data = pd.concat([data,dummy], axis = 1)\n"
   ]
  },
  {
   "cell_type": "code",
   "execution_count": 23,
   "id": "f9dcfcee",
   "metadata": {},
   "outputs": [],
   "source": [
    "pd.set_option('display.max_columns', None)\n"
   ]
  },
  {
   "cell_type": "code",
   "execution_count": 24,
   "id": "bb30238a",
   "metadata": {
    "scrolled": true
   },
   "outputs": [
    {
     "data": {
      "text/html": [
       "<div>\n",
       "<style scoped>\n",
       "    .dataframe tbody tr th:only-of-type {\n",
       "        vertical-align: middle;\n",
       "    }\n",
       "\n",
       "    .dataframe tbody tr th {\n",
       "        vertical-align: top;\n",
       "    }\n",
       "\n",
       "    .dataframe thead th {\n",
       "        text-align: right;\n",
       "    }\n",
       "</style>\n",
       "<table border=\"1\" class=\"dataframe\">\n",
       "  <thead>\n",
       "    <tr style=\"text-align: right;\">\n",
       "      <th></th>\n",
       "      <th>id</th>\n",
       "      <th>vendor_id</th>\n",
       "      <th>pickup_datetime</th>\n",
       "      <th>dropoff_datetime</th>\n",
       "      <th>passenger_count</th>\n",
       "      <th>pickup_longitude</th>\n",
       "      <th>pickup_latitude</th>\n",
       "      <th>dropoff_longitude</th>\n",
       "      <th>dropoff_latitude</th>\n",
       "      <th>store_and_fwd_flag</th>\n",
       "      <th>trip_duration</th>\n",
       "      <th>distance</th>\n",
       "      <th>speed</th>\n",
       "      <th>day_name</th>\n",
       "      <th>month</th>\n",
       "      <th>day_num</th>\n",
       "      <th>pickup_hour</th>\n",
       "      <th>flag_N</th>\n",
       "      <th>flag_Y</th>\n",
       "      <th>vendor_id_1</th>\n",
       "      <th>vendor_id_2</th>\n",
       "      <th>month_1</th>\n",
       "      <th>month_2</th>\n",
       "      <th>month_3</th>\n",
       "      <th>month_4</th>\n",
       "      <th>month_5</th>\n",
       "      <th>month_6</th>\n",
       "      <th>day_num_0</th>\n",
       "      <th>day_num_1</th>\n",
       "      <th>day_num_2</th>\n",
       "      <th>day_num_3</th>\n",
       "      <th>day_num_4</th>\n",
       "      <th>day_num_5</th>\n",
       "      <th>day_num_6</th>\n",
       "      <th>pickup_hour_0</th>\n",
       "      <th>pickup_hour_1</th>\n",
       "      <th>pickup_hour_2</th>\n",
       "      <th>pickup_hour_3</th>\n",
       "      <th>pickup_hour_4</th>\n",
       "      <th>pickup_hour_5</th>\n",
       "      <th>pickup_hour_6</th>\n",
       "      <th>pickup_hour_7</th>\n",
       "      <th>pickup_hour_8</th>\n",
       "      <th>pickup_hour_9</th>\n",
       "      <th>pickup_hour_10</th>\n",
       "      <th>pickup_hour_11</th>\n",
       "      <th>pickup_hour_12</th>\n",
       "      <th>pickup_hour_13</th>\n",
       "      <th>pickup_hour_14</th>\n",
       "      <th>pickup_hour_15</th>\n",
       "      <th>pickup_hour_16</th>\n",
       "      <th>pickup_hour_17</th>\n",
       "      <th>pickup_hour_18</th>\n",
       "      <th>pickup_hour_19</th>\n",
       "      <th>pickup_hour_20</th>\n",
       "      <th>pickup_hour_21</th>\n",
       "      <th>pickup_hour_22</th>\n",
       "      <th>pickup_hour_23</th>\n",
       "      <th>passenger_count_0</th>\n",
       "      <th>passenger_count_1</th>\n",
       "      <th>passenger_count_2</th>\n",
       "      <th>passenger_count_3</th>\n",
       "      <th>passenger_count_4</th>\n",
       "      <th>passenger_count_5</th>\n",
       "      <th>passenger_count_6</th>\n",
       "      <th>passenger_count_7</th>\n",
       "      <th>passenger_count_9</th>\n",
       "    </tr>\n",
       "  </thead>\n",
       "  <tbody>\n",
       "    <tr>\n",
       "      <th>0</th>\n",
       "      <td>id1080784</td>\n",
       "      <td>2</td>\n",
       "      <td>2016-02-29 16:40:21</td>\n",
       "      <td>2016-02-29 16:47:01</td>\n",
       "      <td>1</td>\n",
       "      <td>-73.953918</td>\n",
       "      <td>40.778873</td>\n",
       "      <td>-73.963875</td>\n",
       "      <td>40.771164</td>\n",
       "      <td>N</td>\n",
       "      <td>400</td>\n",
       "      <td>1.199770</td>\n",
       "      <td>10.797929</td>\n",
       "      <td>Monday</td>\n",
       "      <td>2</td>\n",
       "      <td>0</td>\n",
       "      <td>16</td>\n",
       "      <td>1</td>\n",
       "      <td>0</td>\n",
       "      <td>0</td>\n",
       "      <td>1</td>\n",
       "      <td>0</td>\n",
       "      <td>1</td>\n",
       "      <td>0</td>\n",
       "      <td>0</td>\n",
       "      <td>0</td>\n",
       "      <td>0</td>\n",
       "      <td>1</td>\n",
       "      <td>0</td>\n",
       "      <td>0</td>\n",
       "      <td>0</td>\n",
       "      <td>0</td>\n",
       "      <td>0</td>\n",
       "      <td>0</td>\n",
       "      <td>0</td>\n",
       "      <td>0</td>\n",
       "      <td>0</td>\n",
       "      <td>0</td>\n",
       "      <td>0</td>\n",
       "      <td>0</td>\n",
       "      <td>0</td>\n",
       "      <td>0</td>\n",
       "      <td>0</td>\n",
       "      <td>0</td>\n",
       "      <td>0</td>\n",
       "      <td>0</td>\n",
       "      <td>0</td>\n",
       "      <td>0</td>\n",
       "      <td>0</td>\n",
       "      <td>0</td>\n",
       "      <td>1</td>\n",
       "      <td>0</td>\n",
       "      <td>0</td>\n",
       "      <td>0</td>\n",
       "      <td>0</td>\n",
       "      <td>0</td>\n",
       "      <td>0</td>\n",
       "      <td>0</td>\n",
       "      <td>0</td>\n",
       "      <td>1</td>\n",
       "      <td>0</td>\n",
       "      <td>0</td>\n",
       "      <td>0</td>\n",
       "      <td>0</td>\n",
       "      <td>0</td>\n",
       "      <td>0</td>\n",
       "      <td>0</td>\n",
       "    </tr>\n",
       "    <tr>\n",
       "      <th>1</th>\n",
       "      <td>id0889885</td>\n",
       "      <td>1</td>\n",
       "      <td>2016-03-11 23:35:37</td>\n",
       "      <td>2016-03-11 23:53:57</td>\n",
       "      <td>2</td>\n",
       "      <td>-73.988312</td>\n",
       "      <td>40.731743</td>\n",
       "      <td>-73.994751</td>\n",
       "      <td>40.694931</td>\n",
       "      <td>N</td>\n",
       "      <td>1100</td>\n",
       "      <td>4.123945</td>\n",
       "      <td>13.496548</td>\n",
       "      <td>Friday</td>\n",
       "      <td>3</td>\n",
       "      <td>4</td>\n",
       "      <td>23</td>\n",
       "      <td>1</td>\n",
       "      <td>0</td>\n",
       "      <td>1</td>\n",
       "      <td>0</td>\n",
       "      <td>0</td>\n",
       "      <td>0</td>\n",
       "      <td>1</td>\n",
       "      <td>0</td>\n",
       "      <td>0</td>\n",
       "      <td>0</td>\n",
       "      <td>0</td>\n",
       "      <td>0</td>\n",
       "      <td>0</td>\n",
       "      <td>0</td>\n",
       "      <td>1</td>\n",
       "      <td>0</td>\n",
       "      <td>0</td>\n",
       "      <td>0</td>\n",
       "      <td>0</td>\n",
       "      <td>0</td>\n",
       "      <td>0</td>\n",
       "      <td>0</td>\n",
       "      <td>0</td>\n",
       "      <td>0</td>\n",
       "      <td>0</td>\n",
       "      <td>0</td>\n",
       "      <td>0</td>\n",
       "      <td>0</td>\n",
       "      <td>0</td>\n",
       "      <td>0</td>\n",
       "      <td>0</td>\n",
       "      <td>0</td>\n",
       "      <td>0</td>\n",
       "      <td>0</td>\n",
       "      <td>0</td>\n",
       "      <td>0</td>\n",
       "      <td>0</td>\n",
       "      <td>0</td>\n",
       "      <td>0</td>\n",
       "      <td>0</td>\n",
       "      <td>1</td>\n",
       "      <td>0</td>\n",
       "      <td>0</td>\n",
       "      <td>1</td>\n",
       "      <td>0</td>\n",
       "      <td>0</td>\n",
       "      <td>0</td>\n",
       "      <td>0</td>\n",
       "      <td>0</td>\n",
       "      <td>0</td>\n",
       "    </tr>\n",
       "    <tr>\n",
       "      <th>2</th>\n",
       "      <td>id0857912</td>\n",
       "      <td>2</td>\n",
       "      <td>2016-02-21 17:59:33</td>\n",
       "      <td>2016-02-21 18:26:48</td>\n",
       "      <td>2</td>\n",
       "      <td>-73.997314</td>\n",
       "      <td>40.721458</td>\n",
       "      <td>-73.948029</td>\n",
       "      <td>40.774918</td>\n",
       "      <td>N</td>\n",
       "      <td>1635</td>\n",
       "      <td>7.250436</td>\n",
       "      <td>15.964262</td>\n",
       "      <td>Sunday</td>\n",
       "      <td>2</td>\n",
       "      <td>6</td>\n",
       "      <td>17</td>\n",
       "      <td>1</td>\n",
       "      <td>0</td>\n",
       "      <td>0</td>\n",
       "      <td>1</td>\n",
       "      <td>0</td>\n",
       "      <td>1</td>\n",
       "      <td>0</td>\n",
       "      <td>0</td>\n",
       "      <td>0</td>\n",
       "      <td>0</td>\n",
       "      <td>0</td>\n",
       "      <td>0</td>\n",
       "      <td>0</td>\n",
       "      <td>0</td>\n",
       "      <td>0</td>\n",
       "      <td>0</td>\n",
       "      <td>1</td>\n",
       "      <td>0</td>\n",
       "      <td>0</td>\n",
       "      <td>0</td>\n",
       "      <td>0</td>\n",
       "      <td>0</td>\n",
       "      <td>0</td>\n",
       "      <td>0</td>\n",
       "      <td>0</td>\n",
       "      <td>0</td>\n",
       "      <td>0</td>\n",
       "      <td>0</td>\n",
       "      <td>0</td>\n",
       "      <td>0</td>\n",
       "      <td>0</td>\n",
       "      <td>0</td>\n",
       "      <td>0</td>\n",
       "      <td>0</td>\n",
       "      <td>1</td>\n",
       "      <td>0</td>\n",
       "      <td>0</td>\n",
       "      <td>0</td>\n",
       "      <td>0</td>\n",
       "      <td>0</td>\n",
       "      <td>0</td>\n",
       "      <td>0</td>\n",
       "      <td>0</td>\n",
       "      <td>1</td>\n",
       "      <td>0</td>\n",
       "      <td>0</td>\n",
       "      <td>0</td>\n",
       "      <td>0</td>\n",
       "      <td>0</td>\n",
       "      <td>0</td>\n",
       "    </tr>\n",
       "    <tr>\n",
       "      <th>3</th>\n",
       "      <td>id3744273</td>\n",
       "      <td>2</td>\n",
       "      <td>2016-01-05 09:44:31</td>\n",
       "      <td>2016-01-05 10:03:32</td>\n",
       "      <td>6</td>\n",
       "      <td>-73.961670</td>\n",
       "      <td>40.759720</td>\n",
       "      <td>-73.956779</td>\n",
       "      <td>40.780628</td>\n",
       "      <td>N</td>\n",
       "      <td>1141</td>\n",
       "      <td>2.358287</td>\n",
       "      <td>7.440694</td>\n",
       "      <td>Tuesday</td>\n",
       "      <td>1</td>\n",
       "      <td>1</td>\n",
       "      <td>9</td>\n",
       "      <td>1</td>\n",
       "      <td>0</td>\n",
       "      <td>0</td>\n",
       "      <td>1</td>\n",
       "      <td>1</td>\n",
       "      <td>0</td>\n",
       "      <td>0</td>\n",
       "      <td>0</td>\n",
       "      <td>0</td>\n",
       "      <td>0</td>\n",
       "      <td>0</td>\n",
       "      <td>1</td>\n",
       "      <td>0</td>\n",
       "      <td>0</td>\n",
       "      <td>0</td>\n",
       "      <td>0</td>\n",
       "      <td>0</td>\n",
       "      <td>0</td>\n",
       "      <td>0</td>\n",
       "      <td>0</td>\n",
       "      <td>0</td>\n",
       "      <td>0</td>\n",
       "      <td>0</td>\n",
       "      <td>0</td>\n",
       "      <td>0</td>\n",
       "      <td>0</td>\n",
       "      <td>1</td>\n",
       "      <td>0</td>\n",
       "      <td>0</td>\n",
       "      <td>0</td>\n",
       "      <td>0</td>\n",
       "      <td>0</td>\n",
       "      <td>0</td>\n",
       "      <td>0</td>\n",
       "      <td>0</td>\n",
       "      <td>0</td>\n",
       "      <td>0</td>\n",
       "      <td>0</td>\n",
       "      <td>0</td>\n",
       "      <td>0</td>\n",
       "      <td>0</td>\n",
       "      <td>0</td>\n",
       "      <td>0</td>\n",
       "      <td>0</td>\n",
       "      <td>0</td>\n",
       "      <td>0</td>\n",
       "      <td>0</td>\n",
       "      <td>1</td>\n",
       "      <td>0</td>\n",
       "      <td>0</td>\n",
       "    </tr>\n",
       "    <tr>\n",
       "      <th>4</th>\n",
       "      <td>id0232939</td>\n",
       "      <td>1</td>\n",
       "      <td>2016-02-17 06:42:23</td>\n",
       "      <td>2016-02-17 06:56:31</td>\n",
       "      <td>1</td>\n",
       "      <td>-74.017120</td>\n",
       "      <td>40.708469</td>\n",
       "      <td>-73.988182</td>\n",
       "      <td>40.740631</td>\n",
       "      <td>N</td>\n",
       "      <td>848</td>\n",
       "      <td>4.328155</td>\n",
       "      <td>18.374244</td>\n",
       "      <td>Wednesday</td>\n",
       "      <td>2</td>\n",
       "      <td>2</td>\n",
       "      <td>6</td>\n",
       "      <td>1</td>\n",
       "      <td>0</td>\n",
       "      <td>1</td>\n",
       "      <td>0</td>\n",
       "      <td>0</td>\n",
       "      <td>1</td>\n",
       "      <td>0</td>\n",
       "      <td>0</td>\n",
       "      <td>0</td>\n",
       "      <td>0</td>\n",
       "      <td>0</td>\n",
       "      <td>0</td>\n",
       "      <td>1</td>\n",
       "      <td>0</td>\n",
       "      <td>0</td>\n",
       "      <td>0</td>\n",
       "      <td>0</td>\n",
       "      <td>0</td>\n",
       "      <td>0</td>\n",
       "      <td>0</td>\n",
       "      <td>0</td>\n",
       "      <td>0</td>\n",
       "      <td>0</td>\n",
       "      <td>1</td>\n",
       "      <td>0</td>\n",
       "      <td>0</td>\n",
       "      <td>0</td>\n",
       "      <td>0</td>\n",
       "      <td>0</td>\n",
       "      <td>0</td>\n",
       "      <td>0</td>\n",
       "      <td>0</td>\n",
       "      <td>0</td>\n",
       "      <td>0</td>\n",
       "      <td>0</td>\n",
       "      <td>0</td>\n",
       "      <td>0</td>\n",
       "      <td>0</td>\n",
       "      <td>0</td>\n",
       "      <td>0</td>\n",
       "      <td>0</td>\n",
       "      <td>0</td>\n",
       "      <td>1</td>\n",
       "      <td>0</td>\n",
       "      <td>0</td>\n",
       "      <td>0</td>\n",
       "      <td>0</td>\n",
       "      <td>0</td>\n",
       "      <td>0</td>\n",
       "      <td>0</td>\n",
       "    </tr>\n",
       "  </tbody>\n",
       "</table>\n",
       "</div>"
      ],
      "text/plain": [
       "          id  vendor_id     pickup_datetime    dropoff_datetime  \\\n",
       "0  id1080784          2 2016-02-29 16:40:21 2016-02-29 16:47:01   \n",
       "1  id0889885          1 2016-03-11 23:35:37 2016-03-11 23:53:57   \n",
       "2  id0857912          2 2016-02-21 17:59:33 2016-02-21 18:26:48   \n",
       "3  id3744273          2 2016-01-05 09:44:31 2016-01-05 10:03:32   \n",
       "4  id0232939          1 2016-02-17 06:42:23 2016-02-17 06:56:31   \n",
       "\n",
       "  passenger_count  pickup_longitude  pickup_latitude  dropoff_longitude  \\\n",
       "0               1        -73.953918        40.778873         -73.963875   \n",
       "1               2        -73.988312        40.731743         -73.994751   \n",
       "2               2        -73.997314        40.721458         -73.948029   \n",
       "3               6        -73.961670        40.759720         -73.956779   \n",
       "4               1        -74.017120        40.708469         -73.988182   \n",
       "\n",
       "   dropoff_latitude store_and_fwd_flag  trip_duration  distance      speed  \\\n",
       "0         40.771164                  N            400  1.199770  10.797929   \n",
       "1         40.694931                  N           1100  4.123945  13.496548   \n",
       "2         40.774918                  N           1635  7.250436  15.964262   \n",
       "3         40.780628                  N           1141  2.358287   7.440694   \n",
       "4         40.740631                  N            848  4.328155  18.374244   \n",
       "\n",
       "    day_name month day_num pickup_hour  flag_N  flag_Y  vendor_id_1  \\\n",
       "0     Monday     2       0          16       1       0            0   \n",
       "1     Friday     3       4          23       1       0            1   \n",
       "2     Sunday     2       6          17       1       0            0   \n",
       "3    Tuesday     1       1           9       1       0            0   \n",
       "4  Wednesday     2       2           6       1       0            1   \n",
       "\n",
       "   vendor_id_2  month_1  month_2  month_3  month_4  month_5  month_6  \\\n",
       "0            1        0        1        0        0        0        0   \n",
       "1            0        0        0        1        0        0        0   \n",
       "2            1        0        1        0        0        0        0   \n",
       "3            1        1        0        0        0        0        0   \n",
       "4            0        0        1        0        0        0        0   \n",
       "\n",
       "   day_num_0  day_num_1  day_num_2  day_num_3  day_num_4  day_num_5  \\\n",
       "0          1          0          0          0          0          0   \n",
       "1          0          0          0          0          1          0   \n",
       "2          0          0          0          0          0          0   \n",
       "3          0          1          0          0          0          0   \n",
       "4          0          0          1          0          0          0   \n",
       "\n",
       "   day_num_6  pickup_hour_0  pickup_hour_1  pickup_hour_2  pickup_hour_3  \\\n",
       "0          0              0              0              0              0   \n",
       "1          0              0              0              0              0   \n",
       "2          1              0              0              0              0   \n",
       "3          0              0              0              0              0   \n",
       "4          0              0              0              0              0   \n",
       "\n",
       "   pickup_hour_4  pickup_hour_5  pickup_hour_6  pickup_hour_7  pickup_hour_8  \\\n",
       "0              0              0              0              0              0   \n",
       "1              0              0              0              0              0   \n",
       "2              0              0              0              0              0   \n",
       "3              0              0              0              0              0   \n",
       "4              0              0              1              0              0   \n",
       "\n",
       "   pickup_hour_9  pickup_hour_10  pickup_hour_11  pickup_hour_12  \\\n",
       "0              0               0               0               0   \n",
       "1              0               0               0               0   \n",
       "2              0               0               0               0   \n",
       "3              1               0               0               0   \n",
       "4              0               0               0               0   \n",
       "\n",
       "   pickup_hour_13  pickup_hour_14  pickup_hour_15  pickup_hour_16  \\\n",
       "0               0               0               0               1   \n",
       "1               0               0               0               0   \n",
       "2               0               0               0               0   \n",
       "3               0               0               0               0   \n",
       "4               0               0               0               0   \n",
       "\n",
       "   pickup_hour_17  pickup_hour_18  pickup_hour_19  pickup_hour_20  \\\n",
       "0               0               0               0               0   \n",
       "1               0               0               0               0   \n",
       "2               1               0               0               0   \n",
       "3               0               0               0               0   \n",
       "4               0               0               0               0   \n",
       "\n",
       "   pickup_hour_21  pickup_hour_22  pickup_hour_23  passenger_count_0  \\\n",
       "0               0               0               0                  0   \n",
       "1               0               0               1                  0   \n",
       "2               0               0               0                  0   \n",
       "3               0               0               0                  0   \n",
       "4               0               0               0                  0   \n",
       "\n",
       "   passenger_count_1  passenger_count_2  passenger_count_3  passenger_count_4  \\\n",
       "0                  1                  0                  0                  0   \n",
       "1                  0                  1                  0                  0   \n",
       "2                  0                  1                  0                  0   \n",
       "3                  0                  0                  0                  0   \n",
       "4                  1                  0                  0                  0   \n",
       "\n",
       "   passenger_count_5  passenger_count_6  passenger_count_7  passenger_count_9  \n",
       "0                  0                  0                  0                  0  \n",
       "1                  0                  0                  0                  0  \n",
       "2                  0                  0                  0                  0  \n",
       "3                  0                  1                  0                  0  \n",
       "4                  0                  0                  0                  0  "
      ]
     },
     "execution_count": 24,
     "metadata": {},
     "output_type": "execute_result"
    }
   ],
   "source": [
    "data.head()"
   ]
  },
  {
   "cell_type": "markdown",
   "id": "3889d3c6",
   "metadata": {},
   "source": [
    "## To check whether there is inconsistency in data wrt the drop location and trip duration"
   ]
  },
  {
   "cell_type": "code",
   "execution_count": 25,
   "id": "8b5fa33c",
   "metadata": {},
   "outputs": [
    {
     "data": {
      "text/plain": [
       "(0, 68)"
      ]
     },
     "execution_count": 25,
     "metadata": {},
     "output_type": "execute_result"
    }
   ],
   "source": [
    "data['check_trip_duration'] = (data['dropoff_datetime'] - data['pickup_datetime']).map(lambda x: x.total_seconds())\n",
    "\n",
    "duration_difference = data[np.abs(data['check_trip_duration'].values  - data['trip_duration'].values) > 1]\n",
    "duration_difference.shape"
   ]
  },
  {
   "cell_type": "markdown",
   "id": "5353fc5e",
   "metadata": {},
   "source": [
    "**There seems to be no inconsistency**"
   ]
  },
  {
   "cell_type": "markdown",
   "id": "b80e2ad0",
   "metadata": {},
   "source": [
    "# UNIVARIATE ANALYSIS #"
   ]
  },
  {
   "cell_type": "markdown",
   "id": "a6161f1e",
   "metadata": {},
   "source": [
    "## Vendor ##"
   ]
  },
  {
   "cell_type": "code",
   "execution_count": 26,
   "id": "cc235d3f",
   "metadata": {},
   "outputs": [
    {
     "data": {
      "text/plain": [
       "2    390481\n",
       "1    338841\n",
       "Name: vendor_id, dtype: int64"
      ]
     },
     "execution_count": 26,
     "metadata": {},
     "output_type": "execute_result"
    }
   ],
   "source": [
    "data.vendor_id.value_counts()"
   ]
  },
  {
   "cell_type": "markdown",
   "id": "f428ee66",
   "metadata": {},
   "source": [
    "**It is clear that there are only two vendors offering their service considered in this dataset labelled as 1 and 2**"
   ]
  },
  {
   "cell_type": "code",
   "execution_count": 27,
   "id": "4c8924a9",
   "metadata": {
    "scrolled": true
   },
   "outputs": [
    {
     "data": {
      "text/plain": [
       "Text(0.5, 0, 'vendor_distribution_pie_chart')"
      ]
     },
     "execution_count": 27,
     "metadata": {},
     "output_type": "execute_result"
    },
    {
     "data": {
      "image/png": "[encoded data removed]",
      "text/plain": [
       "<Figure size 640x480 with 1 Axes>"
      ]
     },
     "metadata": {},
     "output_type": "display_data"
    }
   ],
   "source": [
    "colors = sns.color_palette('bright')[1:3]\n",
    "plt.pie(data.vendor_id.value_counts(), labels = ['vendor_2','vendor_1'], colors = colors, autopct='%.0f%%')\n",
    "plt.xlabel('vendor_distribution_pie_chart')\n"
   ]
  },
  {
   "cell_type": "markdown",
   "id": "678b980a",
   "metadata": {},
   "source": [
    "**Both the vendors have fairly similar market share but vendor 2 has a edge over the number of trips made by about 8%**"
   ]
  },
  {
   "cell_type": "markdown",
   "id": "e36d05a1",
   "metadata": {},
   "source": [
    "## Passenger count ##"
   ]
  },
  {
   "cell_type": "code",
   "execution_count": 28,
   "id": "cb4ccdda",
   "metadata": {
    "scrolled": true
   },
   "outputs": [
    {
     "data": {
      "text/plain": [
       "1    517415\n",
       "2    105097\n",
       "5     38926\n",
       "3     29692\n",
       "6     24107\n",
       "4     14050\n",
       "0        33\n",
       "7         1\n",
       "9         1\n",
       "Name: passenger_count, dtype: int64"
      ]
     },
     "execution_count": 28,
     "metadata": {},
     "output_type": "execute_result"
    }
   ],
   "source": [
    "data.passenger_count.value_counts()"
   ]
  },
  {
   "cell_type": "code",
   "execution_count": 29,
   "id": "84bf3aad",
   "metadata": {
    "scrolled": true
   },
   "outputs": [
    {
     "data": {
      "text/plain": [
       "Text(0.5, 0, 'passenger_count_piechart')"
      ]
     },
     "execution_count": 29,
     "metadata": {},
     "output_type": "execute_result"
    },
    {
     "data": {
      "image/png": "[encoded data removed]",
      "text/plain": [
       "<Figure size 640x480 with 1 Axes>"
      ]
     },
     "metadata": {},
     "output_type": "display_data"
    }
   ],
   "source": [
    "colors = sns.color_palette('bright')[0:9]\n",
    "explode = (0, 0.1, 0.2, 0.3, 0.4, 0.5 ,0.6,0.7, 0.8)\n",
    "plt.pie(data.passenger_count.value_counts(), labels = ['count_1', 'count_2', 'count_5', 'count_3' ,'count_6','count_4', 'count_0', 'count_7', 'count_9'], explode=explode , colors = colors, autopct='%.0f%%')\n",
    "plt.xlabel('passenger_count_piechart')"
   ]
  },
  {
   "cell_type": "markdown",
   "id": "4d6a78e5",
   "metadata": {},
   "source": [
    "**Note the presence of outliers**"
   ]
  },
  {
   "cell_type": "code",
   "execution_count": 30,
   "id": "fa59a0c6",
   "metadata": {
    "scrolled": true
   },
   "outputs": [
    {
     "data": {
      "text/plain": [
       "<AxesSubplot:>"
      ]
     },
     "execution_count": 30,
     "metadata": {},
     "output_type": "execute_result"
    },
    {
     "data": {
      "image/png": "[encoded data removed]",
      "text/plain": [
       "<Figure size 600x1500 with 1 Axes>"
      ]
     },
     "metadata": {},
     "output_type": "display_data"
    }
   ],
   "source": [
    "fig = plt.figure(figsize =(6, 15))\n",
    "\n",
    "sns.boxplot(data = data[\"passenger_count\"])\n"
   ]
  },
  {
   "cell_type": "markdown",
   "id": "e89d0e0b",
   "metadata": {},
   "source": [
    "**Observations:**\n",
    "\n",
    "- we can see that there are outliers of 7 and 9 passengers\n",
    "\n",
    "- Majority of trips are with 1 or 2 passengers\n",
    "\n",
    "- Trips with passenger count of zero are present which is unusual"
   ]
  },
  {
   "cell_type": "markdown",
   "id": "b29da7f9",
   "metadata": {},
   "source": [
    "**Inference:**\n",
    "\n",
    "- The trips with 7 and 9 passengers are unusual cause a standard taxi won't be able to hold that many people. So we can conclude that this is a misregister or must be those trips with kids\n",
    "\n",
    "- Zero passenger trips can be considered as humar error on part of the driver "
   ]
  },
  {
   "cell_type": "markdown",
   "id": "67ad35d7",
   "metadata": {},
   "source": [
    "## Store_and_fwd_flag\n",
    "\n",
    "**This is a mechanism employed to store the trip details when the vehicle loses access to server. N indicates there has been no lose in connection while Y indicates the details were stored rin vehicle and then send after restablished connection**"
   ]
  },
  {
   "cell_type": "code",
   "execution_count": 31,
   "id": "da0ff739",
   "metadata": {},
   "outputs": [
    {
     "data": {
      "text/plain": [
       "N    725282\n",
       "Y      4040\n",
       "Name: store_and_fwd_flag, dtype: int64"
      ]
     },
     "execution_count": 31,
     "metadata": {},
     "output_type": "execute_result"
    }
   ],
   "source": [
    "data.store_and_fwd_flag.value_counts()"
   ]
  },
  {
   "cell_type": "code",
   "execution_count": 32,
   "id": "cc9597d0",
   "metadata": {},
   "outputs": [
    {
     "data": {
      "text/plain": [
       "Text(0.5, 0, 'store_and_fwd_flag_distribution')"
      ]
     },
     "execution_count": 32,
     "metadata": {},
     "output_type": "execute_result"
    },
    {
     "data": {
      "image/png": "[encoded data removed]",
      "text/plain": [
       "<Figure size 640x480 with 1 Axes>"
      ]
     },
     "metadata": {},
     "output_type": "display_data"
    }
   ],
   "source": [
    "colors = sns.color_palette('bright')[2:4]\n",
    "plt.pie(data.store_and_fwd_flag.value_counts(), labels = ['N','Y'], colors = colors, radius = 1.25, autopct='%.0f%%')\n",
    "plt.xlabel('store_and_fwd_flag_distribution', fontsize=15)\n"
   ]
  },
  {
   "cell_type": "markdown",
   "id": "70c10412",
   "metadata": {},
   "source": [
    "**Observations:**\n",
    "\n",
    "-It is clear that only in 1% where it was required to store the details in vehicle\n",
    "-a variety of reasons could  be the cause of this like battery was down, loss of signal etc\n"
   ]
  },
  {
   "cell_type": "code",
   "execution_count": 33,
   "id": "50e3e8c5",
   "metadata": {
    "scrolled": true
   },
   "outputs": [
    {
     "data": {
      "text/html": [
       "<div>\n",
       "<style scoped>\n",
       "    .dataframe tbody tr th:only-of-type {\n",
       "        vertical-align: middle;\n",
       "    }\n",
       "\n",
       "    .dataframe tbody tr th {\n",
       "        vertical-align: top;\n",
       "    }\n",
       "\n",
       "    .dataframe thead th {\n",
       "        text-align: right;\n",
       "    }\n",
       "</style>\n",
       "<table border=\"1\" class=\"dataframe\">\n",
       "  <thead>\n",
       "    <tr style=\"text-align: right;\">\n",
       "      <th></th>\n",
       "      <th>id</th>\n",
       "      <th>vendor_id</th>\n",
       "      <th>pickup_datetime</th>\n",
       "      <th>dropoff_datetime</th>\n",
       "      <th>passenger_count</th>\n",
       "      <th>pickup_longitude</th>\n",
       "      <th>pickup_latitude</th>\n",
       "      <th>dropoff_longitude</th>\n",
       "      <th>dropoff_latitude</th>\n",
       "      <th>store_and_fwd_flag</th>\n",
       "      <th>trip_duration</th>\n",
       "      <th>distance</th>\n",
       "      <th>speed</th>\n",
       "      <th>day_name</th>\n",
       "      <th>month</th>\n",
       "      <th>day_num</th>\n",
       "      <th>pickup_hour</th>\n",
       "      <th>flag_N</th>\n",
       "      <th>flag_Y</th>\n",
       "      <th>vendor_id_1</th>\n",
       "      <th>vendor_id_2</th>\n",
       "      <th>month_1</th>\n",
       "      <th>month_2</th>\n",
       "      <th>month_3</th>\n",
       "      <th>month_4</th>\n",
       "      <th>month_5</th>\n",
       "      <th>month_6</th>\n",
       "      <th>day_num_0</th>\n",
       "      <th>day_num_1</th>\n",
       "      <th>day_num_2</th>\n",
       "      <th>day_num_3</th>\n",
       "      <th>day_num_4</th>\n",
       "      <th>day_num_5</th>\n",
       "      <th>day_num_6</th>\n",
       "      <th>pickup_hour_0</th>\n",
       "      <th>pickup_hour_1</th>\n",
       "      <th>pickup_hour_2</th>\n",
       "      <th>pickup_hour_3</th>\n",
       "      <th>pickup_hour_4</th>\n",
       "      <th>pickup_hour_5</th>\n",
       "      <th>pickup_hour_6</th>\n",
       "      <th>pickup_hour_7</th>\n",
       "      <th>pickup_hour_8</th>\n",
       "      <th>pickup_hour_9</th>\n",
       "      <th>pickup_hour_10</th>\n",
       "      <th>pickup_hour_11</th>\n",
       "      <th>pickup_hour_12</th>\n",
       "      <th>pickup_hour_13</th>\n",
       "      <th>pickup_hour_14</th>\n",
       "      <th>pickup_hour_15</th>\n",
       "      <th>pickup_hour_16</th>\n",
       "      <th>pickup_hour_17</th>\n",
       "      <th>pickup_hour_18</th>\n",
       "      <th>pickup_hour_19</th>\n",
       "      <th>pickup_hour_20</th>\n",
       "      <th>pickup_hour_21</th>\n",
       "      <th>pickup_hour_22</th>\n",
       "      <th>pickup_hour_23</th>\n",
       "      <th>passenger_count_0</th>\n",
       "      <th>passenger_count_1</th>\n",
       "      <th>passenger_count_2</th>\n",
       "      <th>passenger_count_3</th>\n",
       "      <th>passenger_count_4</th>\n",
       "      <th>passenger_count_5</th>\n",
       "      <th>passenger_count_6</th>\n",
       "      <th>passenger_count_7</th>\n",
       "      <th>passenger_count_9</th>\n",
       "      <th>check_trip_duration</th>\n",
       "    </tr>\n",
       "  </thead>\n",
       "  <tbody>\n",
       "    <tr>\n",
       "      <th>378</th>\n",
       "      <td>id1347533</td>\n",
       "      <td>1</td>\n",
       "      <td>2016-05-27 18:09:01</td>\n",
       "      <td>2016-05-27 18:16:30</td>\n",
       "      <td>1</td>\n",
       "      <td>-73.976051</td>\n",
       "      <td>40.744671</td>\n",
       "      <td>-73.979721</td>\n",
       "      <td>40.722958</td>\n",
       "      <td>Y</td>\n",
       "      <td>449</td>\n",
       "      <td>2.431075</td>\n",
       "      <td>19.491919</td>\n",
       "      <td>Friday</td>\n",
       "      <td>5</td>\n",
       "      <td>4</td>\n",
       "      <td>18</td>\n",
       "      <td>0</td>\n",
       "      <td>1</td>\n",
       "      <td>1</td>\n",
       "      <td>0</td>\n",
       "      <td>0</td>\n",
       "      <td>0</td>\n",
       "      <td>0</td>\n",
       "      <td>0</td>\n",
       "      <td>1</td>\n",
       "      <td>0</td>\n",
       "      <td>0</td>\n",
       "      <td>0</td>\n",
       "      <td>0</td>\n",
       "      <td>0</td>\n",
       "      <td>1</td>\n",
       "      <td>0</td>\n",
       "      <td>0</td>\n",
       "      <td>0</td>\n",
       "      <td>0</td>\n",
       "      <td>0</td>\n",
       "      <td>0</td>\n",
       "      <td>0</td>\n",
       "      <td>0</td>\n",
       "      <td>0</td>\n",
       "      <td>0</td>\n",
       "      <td>0</td>\n",
       "      <td>0</td>\n",
       "      <td>0</td>\n",
       "      <td>0</td>\n",
       "      <td>0</td>\n",
       "      <td>0</td>\n",
       "      <td>0</td>\n",
       "      <td>0</td>\n",
       "      <td>0</td>\n",
       "      <td>0</td>\n",
       "      <td>1</td>\n",
       "      <td>0</td>\n",
       "      <td>0</td>\n",
       "      <td>0</td>\n",
       "      <td>0</td>\n",
       "      <td>0</td>\n",
       "      <td>0</td>\n",
       "      <td>1</td>\n",
       "      <td>0</td>\n",
       "      <td>0</td>\n",
       "      <td>0</td>\n",
       "      <td>0</td>\n",
       "      <td>0</td>\n",
       "      <td>0</td>\n",
       "      <td>0</td>\n",
       "      <td>449.0</td>\n",
       "    </tr>\n",
       "    <tr>\n",
       "      <th>400</th>\n",
       "      <td>id2733049</td>\n",
       "      <td>1</td>\n",
       "      <td>2016-03-02 20:05:12</td>\n",
       "      <td>2016-03-02 20:52:52</td>\n",
       "      <td>2</td>\n",
       "      <td>-73.978134</td>\n",
       "      <td>40.757484</td>\n",
       "      <td>-73.998955</td>\n",
       "      <td>40.614380</td>\n",
       "      <td>Y</td>\n",
       "      <td>2860</td>\n",
       "      <td>15.988620</td>\n",
       "      <td>20.125535</td>\n",
       "      <td>Wednesday</td>\n",
       "      <td>3</td>\n",
       "      <td>2</td>\n",
       "      <td>20</td>\n",
       "      <td>0</td>\n",
       "      <td>1</td>\n",
       "      <td>1</td>\n",
       "      <td>0</td>\n",
       "      <td>0</td>\n",
       "      <td>0</td>\n",
       "      <td>1</td>\n",
       "      <td>0</td>\n",
       "      <td>0</td>\n",
       "      <td>0</td>\n",
       "      <td>0</td>\n",
       "      <td>0</td>\n",
       "      <td>1</td>\n",
       "      <td>0</td>\n",
       "      <td>0</td>\n",
       "      <td>0</td>\n",
       "      <td>0</td>\n",
       "      <td>0</td>\n",
       "      <td>0</td>\n",
       "      <td>0</td>\n",
       "      <td>0</td>\n",
       "      <td>0</td>\n",
       "      <td>0</td>\n",
       "      <td>0</td>\n",
       "      <td>0</td>\n",
       "      <td>0</td>\n",
       "      <td>0</td>\n",
       "      <td>0</td>\n",
       "      <td>0</td>\n",
       "      <td>0</td>\n",
       "      <td>0</td>\n",
       "      <td>0</td>\n",
       "      <td>0</td>\n",
       "      <td>0</td>\n",
       "      <td>0</td>\n",
       "      <td>0</td>\n",
       "      <td>0</td>\n",
       "      <td>1</td>\n",
       "      <td>0</td>\n",
       "      <td>0</td>\n",
       "      <td>0</td>\n",
       "      <td>0</td>\n",
       "      <td>0</td>\n",
       "      <td>1</td>\n",
       "      <td>0</td>\n",
       "      <td>0</td>\n",
       "      <td>0</td>\n",
       "      <td>0</td>\n",
       "      <td>0</td>\n",
       "      <td>0</td>\n",
       "      <td>2860.0</td>\n",
       "    </tr>\n",
       "    <tr>\n",
       "      <th>501</th>\n",
       "      <td>id2484490</td>\n",
       "      <td>1</td>\n",
       "      <td>2016-01-21 08:07:13</td>\n",
       "      <td>2016-01-21 08:18:21</td>\n",
       "      <td>1</td>\n",
       "      <td>-73.999771</td>\n",
       "      <td>40.739487</td>\n",
       "      <td>-73.983940</td>\n",
       "      <td>40.761421</td>\n",
       "      <td>Y</td>\n",
       "      <td>668</td>\n",
       "      <td>2.778597</td>\n",
       "      <td>14.974478</td>\n",
       "      <td>Thursday</td>\n",
       "      <td>1</td>\n",
       "      <td>3</td>\n",
       "      <td>8</td>\n",
       "      <td>0</td>\n",
       "      <td>1</td>\n",
       "      <td>1</td>\n",
       "      <td>0</td>\n",
       "      <td>1</td>\n",
       "      <td>0</td>\n",
       "      <td>0</td>\n",
       "      <td>0</td>\n",
       "      <td>0</td>\n",
       "      <td>0</td>\n",
       "      <td>0</td>\n",
       "      <td>0</td>\n",
       "      <td>0</td>\n",
       "      <td>1</td>\n",
       "      <td>0</td>\n",
       "      <td>0</td>\n",
       "      <td>0</td>\n",
       "      <td>0</td>\n",
       "      <td>0</td>\n",
       "      <td>0</td>\n",
       "      <td>0</td>\n",
       "      <td>0</td>\n",
       "      <td>0</td>\n",
       "      <td>0</td>\n",
       "      <td>0</td>\n",
       "      <td>1</td>\n",
       "      <td>0</td>\n",
       "      <td>0</td>\n",
       "      <td>0</td>\n",
       "      <td>0</td>\n",
       "      <td>0</td>\n",
       "      <td>0</td>\n",
       "      <td>0</td>\n",
       "      <td>0</td>\n",
       "      <td>0</td>\n",
       "      <td>0</td>\n",
       "      <td>0</td>\n",
       "      <td>0</td>\n",
       "      <td>0</td>\n",
       "      <td>0</td>\n",
       "      <td>0</td>\n",
       "      <td>0</td>\n",
       "      <td>1</td>\n",
       "      <td>0</td>\n",
       "      <td>0</td>\n",
       "      <td>0</td>\n",
       "      <td>0</td>\n",
       "      <td>0</td>\n",
       "      <td>0</td>\n",
       "      <td>0</td>\n",
       "      <td>668.0</td>\n",
       "    </tr>\n",
       "    <tr>\n",
       "      <th>644</th>\n",
       "      <td>id2090829</td>\n",
       "      <td>1</td>\n",
       "      <td>2016-01-11 12:10:13</td>\n",
       "      <td>2016-01-11 12:25:41</td>\n",
       "      <td>2</td>\n",
       "      <td>-74.013611</td>\n",
       "      <td>40.714310</td>\n",
       "      <td>-73.976601</td>\n",
       "      <td>40.751938</td>\n",
       "      <td>Y</td>\n",
       "      <td>928</td>\n",
       "      <td>5.218684</td>\n",
       "      <td>20.244895</td>\n",
       "      <td>Monday</td>\n",
       "      <td>1</td>\n",
       "      <td>0</td>\n",
       "      <td>12</td>\n",
       "      <td>0</td>\n",
       "      <td>1</td>\n",
       "      <td>1</td>\n",
       "      <td>0</td>\n",
       "      <td>1</td>\n",
       "      <td>0</td>\n",
       "      <td>0</td>\n",
       "      <td>0</td>\n",
       "      <td>0</td>\n",
       "      <td>0</td>\n",
       "      <td>1</td>\n",
       "      <td>0</td>\n",
       "      <td>0</td>\n",
       "      <td>0</td>\n",
       "      <td>0</td>\n",
       "      <td>0</td>\n",
       "      <td>0</td>\n",
       "      <td>0</td>\n",
       "      <td>0</td>\n",
       "      <td>0</td>\n",
       "      <td>0</td>\n",
       "      <td>0</td>\n",
       "      <td>0</td>\n",
       "      <td>0</td>\n",
       "      <td>0</td>\n",
       "      <td>0</td>\n",
       "      <td>0</td>\n",
       "      <td>0</td>\n",
       "      <td>0</td>\n",
       "      <td>1</td>\n",
       "      <td>0</td>\n",
       "      <td>0</td>\n",
       "      <td>0</td>\n",
       "      <td>0</td>\n",
       "      <td>0</td>\n",
       "      <td>0</td>\n",
       "      <td>0</td>\n",
       "      <td>0</td>\n",
       "      <td>0</td>\n",
       "      <td>0</td>\n",
       "      <td>0</td>\n",
       "      <td>0</td>\n",
       "      <td>0</td>\n",
       "      <td>1</td>\n",
       "      <td>0</td>\n",
       "      <td>0</td>\n",
       "      <td>0</td>\n",
       "      <td>0</td>\n",
       "      <td>0</td>\n",
       "      <td>0</td>\n",
       "      <td>928.0</td>\n",
       "    </tr>\n",
       "    <tr>\n",
       "      <th>1278</th>\n",
       "      <td>id0512889</td>\n",
       "      <td>1</td>\n",
       "      <td>2016-06-10 21:20:14</td>\n",
       "      <td>2016-06-10 21:26:51</td>\n",
       "      <td>1</td>\n",
       "      <td>-73.958183</td>\n",
       "      <td>40.766190</td>\n",
       "      <td>-73.956032</td>\n",
       "      <td>40.782814</td>\n",
       "      <td>Y</td>\n",
       "      <td>397</td>\n",
       "      <td>1.855051</td>\n",
       "      <td>16.821622</td>\n",
       "      <td>Friday</td>\n",
       "      <td>6</td>\n",
       "      <td>4</td>\n",
       "      <td>21</td>\n",
       "      <td>0</td>\n",
       "      <td>1</td>\n",
       "      <td>1</td>\n",
       "      <td>0</td>\n",
       "      <td>0</td>\n",
       "      <td>0</td>\n",
       "      <td>0</td>\n",
       "      <td>0</td>\n",
       "      <td>0</td>\n",
       "      <td>1</td>\n",
       "      <td>0</td>\n",
       "      <td>0</td>\n",
       "      <td>0</td>\n",
       "      <td>0</td>\n",
       "      <td>1</td>\n",
       "      <td>0</td>\n",
       "      <td>0</td>\n",
       "      <td>0</td>\n",
       "      <td>0</td>\n",
       "      <td>0</td>\n",
       "      <td>0</td>\n",
       "      <td>0</td>\n",
       "      <td>0</td>\n",
       "      <td>0</td>\n",
       "      <td>0</td>\n",
       "      <td>0</td>\n",
       "      <td>0</td>\n",
       "      <td>0</td>\n",
       "      <td>0</td>\n",
       "      <td>0</td>\n",
       "      <td>0</td>\n",
       "      <td>0</td>\n",
       "      <td>0</td>\n",
       "      <td>0</td>\n",
       "      <td>0</td>\n",
       "      <td>0</td>\n",
       "      <td>0</td>\n",
       "      <td>0</td>\n",
       "      <td>1</td>\n",
       "      <td>0</td>\n",
       "      <td>0</td>\n",
       "      <td>0</td>\n",
       "      <td>1</td>\n",
       "      <td>0</td>\n",
       "      <td>0</td>\n",
       "      <td>0</td>\n",
       "      <td>0</td>\n",
       "      <td>0</td>\n",
       "      <td>0</td>\n",
       "      <td>0</td>\n",
       "      <td>397.0</td>\n",
       "    </tr>\n",
       "    <tr>\n",
       "      <th>...</th>\n",
       "      <td>...</td>\n",
       "      <td>...</td>\n",
       "      <td>...</td>\n",
       "      <td>...</td>\n",
       "      <td>...</td>\n",
       "      <td>...</td>\n",
       "      <td>...</td>\n",
       "      <td>...</td>\n",
       "      <td>...</td>\n",
       "      <td>...</td>\n",
       "      <td>...</td>\n",
       "      <td>...</td>\n",
       "      <td>...</td>\n",
       "      <td>...</td>\n",
       "      <td>...</td>\n",
       "      <td>...</td>\n",
       "      <td>...</td>\n",
       "      <td>...</td>\n",
       "      <td>...</td>\n",
       "      <td>...</td>\n",
       "      <td>...</td>\n",
       "      <td>...</td>\n",
       "      <td>...</td>\n",
       "      <td>...</td>\n",
       "      <td>...</td>\n",
       "      <td>...</td>\n",
       "      <td>...</td>\n",
       "      <td>...</td>\n",
       "      <td>...</td>\n",
       "      <td>...</td>\n",
       "      <td>...</td>\n",
       "      <td>...</td>\n",
       "      <td>...</td>\n",
       "      <td>...</td>\n",
       "      <td>...</td>\n",
       "      <td>...</td>\n",
       "      <td>...</td>\n",
       "      <td>...</td>\n",
       "      <td>...</td>\n",
       "      <td>...</td>\n",
       "      <td>...</td>\n",
       "      <td>...</td>\n",
       "      <td>...</td>\n",
       "      <td>...</td>\n",
       "      <td>...</td>\n",
       "      <td>...</td>\n",
       "      <td>...</td>\n",
       "      <td>...</td>\n",
       "      <td>...</td>\n",
       "      <td>...</td>\n",
       "      <td>...</td>\n",
       "      <td>...</td>\n",
       "      <td>...</td>\n",
       "      <td>...</td>\n",
       "      <td>...</td>\n",
       "      <td>...</td>\n",
       "      <td>...</td>\n",
       "      <td>...</td>\n",
       "      <td>...</td>\n",
       "      <td>...</td>\n",
       "      <td>...</td>\n",
       "      <td>...</td>\n",
       "      <td>...</td>\n",
       "      <td>...</td>\n",
       "      <td>...</td>\n",
       "      <td>...</td>\n",
       "      <td>...</td>\n",
       "      <td>...</td>\n",
       "    </tr>\n",
       "    <tr>\n",
       "      <th>728481</th>\n",
       "      <td>id0008273</td>\n",
       "      <td>1</td>\n",
       "      <td>2016-04-08 17:52:56</td>\n",
       "      <td>2016-04-08 18:35:36</td>\n",
       "      <td>1</td>\n",
       "      <td>-73.969627</td>\n",
       "      <td>40.760384</td>\n",
       "      <td>-73.862061</td>\n",
       "      <td>40.768559</td>\n",
       "      <td>Y</td>\n",
       "      <td>2560</td>\n",
       "      <td>9.127552</td>\n",
       "      <td>12.835620</td>\n",
       "      <td>Friday</td>\n",
       "      <td>4</td>\n",
       "      <td>4</td>\n",
       "      <td>17</td>\n",
       "      <td>0</td>\n",
       "      <td>1</td>\n",
       "      <td>1</td>\n",
       "      <td>0</td>\n",
       "      <td>0</td>\n",
       "      <td>0</td>\n",
       "      <td>0</td>\n",
       "      <td>1</td>\n",
       "      <td>0</td>\n",
       "      <td>0</td>\n",
       "      <td>0</td>\n",
       "      <td>0</td>\n",
       "      <td>0</td>\n",
       "      <td>0</td>\n",
       "      <td>1</td>\n",
       "      <td>0</td>\n",
       "      <td>0</td>\n",
       "      <td>0</td>\n",
       "      <td>0</td>\n",
       "      <td>0</td>\n",
       "      <td>0</td>\n",
       "      <td>0</td>\n",
       "      <td>0</td>\n",
       "      <td>0</td>\n",
       "      <td>0</td>\n",
       "      <td>0</td>\n",
       "      <td>0</td>\n",
       "      <td>0</td>\n",
       "      <td>0</td>\n",
       "      <td>0</td>\n",
       "      <td>0</td>\n",
       "      <td>0</td>\n",
       "      <td>0</td>\n",
       "      <td>0</td>\n",
       "      <td>1</td>\n",
       "      <td>0</td>\n",
       "      <td>0</td>\n",
       "      <td>0</td>\n",
       "      <td>0</td>\n",
       "      <td>0</td>\n",
       "      <td>0</td>\n",
       "      <td>0</td>\n",
       "      <td>1</td>\n",
       "      <td>0</td>\n",
       "      <td>0</td>\n",
       "      <td>0</td>\n",
       "      <td>0</td>\n",
       "      <td>0</td>\n",
       "      <td>0</td>\n",
       "      <td>0</td>\n",
       "      <td>2560.0</td>\n",
       "    </tr>\n",
       "    <tr>\n",
       "      <th>728607</th>\n",
       "      <td>id3254730</td>\n",
       "      <td>1</td>\n",
       "      <td>2016-06-03 01:21:11</td>\n",
       "      <td>2016-06-03 01:30:16</td>\n",
       "      <td>1</td>\n",
       "      <td>-74.004692</td>\n",
       "      <td>40.751846</td>\n",
       "      <td>-74.004860</td>\n",
       "      <td>40.735130</td>\n",
       "      <td>Y</td>\n",
       "      <td>545</td>\n",
       "      <td>1.856349</td>\n",
       "      <td>12.262121</td>\n",
       "      <td>Friday</td>\n",
       "      <td>6</td>\n",
       "      <td>4</td>\n",
       "      <td>1</td>\n",
       "      <td>0</td>\n",
       "      <td>1</td>\n",
       "      <td>1</td>\n",
       "      <td>0</td>\n",
       "      <td>0</td>\n",
       "      <td>0</td>\n",
       "      <td>0</td>\n",
       "      <td>0</td>\n",
       "      <td>0</td>\n",
       "      <td>1</td>\n",
       "      <td>0</td>\n",
       "      <td>0</td>\n",
       "      <td>0</td>\n",
       "      <td>0</td>\n",
       "      <td>1</td>\n",
       "      <td>0</td>\n",
       "      <td>0</td>\n",
       "      <td>0</td>\n",
       "      <td>1</td>\n",
       "      <td>0</td>\n",
       "      <td>0</td>\n",
       "      <td>0</td>\n",
       "      <td>0</td>\n",
       "      <td>0</td>\n",
       "      <td>0</td>\n",
       "      <td>0</td>\n",
       "      <td>0</td>\n",
       "      <td>0</td>\n",
       "      <td>0</td>\n",
       "      <td>0</td>\n",
       "      <td>0</td>\n",
       "      <td>0</td>\n",
       "      <td>0</td>\n",
       "      <td>0</td>\n",
       "      <td>0</td>\n",
       "      <td>0</td>\n",
       "      <td>0</td>\n",
       "      <td>0</td>\n",
       "      <td>0</td>\n",
       "      <td>0</td>\n",
       "      <td>0</td>\n",
       "      <td>0</td>\n",
       "      <td>1</td>\n",
       "      <td>0</td>\n",
       "      <td>0</td>\n",
       "      <td>0</td>\n",
       "      <td>0</td>\n",
       "      <td>0</td>\n",
       "      <td>0</td>\n",
       "      <td>0</td>\n",
       "      <td>545.0</td>\n",
       "    </tr>\n",
       "    <tr>\n",
       "      <th>729074</th>\n",
       "      <td>id1347803</td>\n",
       "      <td>1</td>\n",
       "      <td>2016-03-17 01:24:10</td>\n",
       "      <td>2016-03-17 01:35:25</td>\n",
       "      <td>1</td>\n",
       "      <td>-73.988808</td>\n",
       "      <td>40.723038</td>\n",
       "      <td>-73.997543</td>\n",
       "      <td>40.695587</td>\n",
       "      <td>Y</td>\n",
       "      <td>675</td>\n",
       "      <td>3.136447</td>\n",
       "      <td>16.727715</td>\n",
       "      <td>Thursday</td>\n",
       "      <td>3</td>\n",
       "      <td>3</td>\n",
       "      <td>1</td>\n",
       "      <td>0</td>\n",
       "      <td>1</td>\n",
       "      <td>1</td>\n",
       "      <td>0</td>\n",
       "      <td>0</td>\n",
       "      <td>0</td>\n",
       "      <td>1</td>\n",
       "      <td>0</td>\n",
       "      <td>0</td>\n",
       "      <td>0</td>\n",
       "      <td>0</td>\n",
       "      <td>0</td>\n",
       "      <td>0</td>\n",
       "      <td>1</td>\n",
       "      <td>0</td>\n",
       "      <td>0</td>\n",
       "      <td>0</td>\n",
       "      <td>0</td>\n",
       "      <td>1</td>\n",
       "      <td>0</td>\n",
       "      <td>0</td>\n",
       "      <td>0</td>\n",
       "      <td>0</td>\n",
       "      <td>0</td>\n",
       "      <td>0</td>\n",
       "      <td>0</td>\n",
       "      <td>0</td>\n",
       "      <td>0</td>\n",
       "      <td>0</td>\n",
       "      <td>0</td>\n",
       "      <td>0</td>\n",
       "      <td>0</td>\n",
       "      <td>0</td>\n",
       "      <td>0</td>\n",
       "      <td>0</td>\n",
       "      <td>0</td>\n",
       "      <td>0</td>\n",
       "      <td>0</td>\n",
       "      <td>0</td>\n",
       "      <td>0</td>\n",
       "      <td>0</td>\n",
       "      <td>0</td>\n",
       "      <td>1</td>\n",
       "      <td>0</td>\n",
       "      <td>0</td>\n",
       "      <td>0</td>\n",
       "      <td>0</td>\n",
       "      <td>0</td>\n",
       "      <td>0</td>\n",
       "      <td>0</td>\n",
       "      <td>675.0</td>\n",
       "    </tr>\n",
       "    <tr>\n",
       "      <th>729119</th>\n",
       "      <td>id2265972</td>\n",
       "      <td>1</td>\n",
       "      <td>2016-01-07 07:51:18</td>\n",
       "      <td>2016-01-07 07:51:41</td>\n",
       "      <td>3</td>\n",
       "      <td>-73.782356</td>\n",
       "      <td>40.644211</td>\n",
       "      <td>-73.782364</td>\n",
       "      <td>40.644211</td>\n",
       "      <td>Y</td>\n",
       "      <td>23</td>\n",
       "      <td>0.000645</td>\n",
       "      <td>0.101010</td>\n",
       "      <td>Thursday</td>\n",
       "      <td>1</td>\n",
       "      <td>3</td>\n",
       "      <td>7</td>\n",
       "      <td>0</td>\n",
       "      <td>1</td>\n",
       "      <td>1</td>\n",
       "      <td>0</td>\n",
       "      <td>1</td>\n",
       "      <td>0</td>\n",
       "      <td>0</td>\n",
       "      <td>0</td>\n",
       "      <td>0</td>\n",
       "      <td>0</td>\n",
       "      <td>0</td>\n",
       "      <td>0</td>\n",
       "      <td>0</td>\n",
       "      <td>1</td>\n",
       "      <td>0</td>\n",
       "      <td>0</td>\n",
       "      <td>0</td>\n",
       "      <td>0</td>\n",
       "      <td>0</td>\n",
       "      <td>0</td>\n",
       "      <td>0</td>\n",
       "      <td>0</td>\n",
       "      <td>0</td>\n",
       "      <td>0</td>\n",
       "      <td>1</td>\n",
       "      <td>0</td>\n",
       "      <td>0</td>\n",
       "      <td>0</td>\n",
       "      <td>0</td>\n",
       "      <td>0</td>\n",
       "      <td>0</td>\n",
       "      <td>0</td>\n",
       "      <td>0</td>\n",
       "      <td>0</td>\n",
       "      <td>0</td>\n",
       "      <td>0</td>\n",
       "      <td>0</td>\n",
       "      <td>0</td>\n",
       "      <td>0</td>\n",
       "      <td>0</td>\n",
       "      <td>0</td>\n",
       "      <td>0</td>\n",
       "      <td>0</td>\n",
       "      <td>0</td>\n",
       "      <td>1</td>\n",
       "      <td>0</td>\n",
       "      <td>0</td>\n",
       "      <td>0</td>\n",
       "      <td>0</td>\n",
       "      <td>0</td>\n",
       "      <td>23.0</td>\n",
       "    </tr>\n",
       "    <tr>\n",
       "      <th>729217</th>\n",
       "      <td>id2475363</td>\n",
       "      <td>1</td>\n",
       "      <td>2016-06-17 13:40:15</td>\n",
       "      <td>2016-06-17 13:47:04</td>\n",
       "      <td>1</td>\n",
       "      <td>-73.985519</td>\n",
       "      <td>40.747314</td>\n",
       "      <td>-73.974854</td>\n",
       "      <td>40.755192</td>\n",
       "      <td>Y</td>\n",
       "      <td>409</td>\n",
       "      <td>1.255613</td>\n",
       "      <td>11.051849</td>\n",
       "      <td>Friday</td>\n",
       "      <td>6</td>\n",
       "      <td>4</td>\n",
       "      <td>13</td>\n",
       "      <td>0</td>\n",
       "      <td>1</td>\n",
       "      <td>1</td>\n",
       "      <td>0</td>\n",
       "      <td>0</td>\n",
       "      <td>0</td>\n",
       "      <td>0</td>\n",
       "      <td>0</td>\n",
       "      <td>0</td>\n",
       "      <td>1</td>\n",
       "      <td>0</td>\n",
       "      <td>0</td>\n",
       "      <td>0</td>\n",
       "      <td>0</td>\n",
       "      <td>1</td>\n",
       "      <td>0</td>\n",
       "      <td>0</td>\n",
       "      <td>0</td>\n",
       "      <td>0</td>\n",
       "      <td>0</td>\n",
       "      <td>0</td>\n",
       "      <td>0</td>\n",
       "      <td>0</td>\n",
       "      <td>0</td>\n",
       "      <td>0</td>\n",
       "      <td>0</td>\n",
       "      <td>0</td>\n",
       "      <td>0</td>\n",
       "      <td>0</td>\n",
       "      <td>0</td>\n",
       "      <td>1</td>\n",
       "      <td>0</td>\n",
       "      <td>0</td>\n",
       "      <td>0</td>\n",
       "      <td>0</td>\n",
       "      <td>0</td>\n",
       "      <td>0</td>\n",
       "      <td>0</td>\n",
       "      <td>0</td>\n",
       "      <td>0</td>\n",
       "      <td>0</td>\n",
       "      <td>0</td>\n",
       "      <td>1</td>\n",
       "      <td>0</td>\n",
       "      <td>0</td>\n",
       "      <td>0</td>\n",
       "      <td>0</td>\n",
       "      <td>0</td>\n",
       "      <td>0</td>\n",
       "      <td>0</td>\n",
       "      <td>409.0</td>\n",
       "    </tr>\n",
       "  </tbody>\n",
       "</table>\n",
       "<p>4040 rows × 68 columns</p>\n",
       "</div>"
      ],
      "text/plain": [
       "               id  vendor_id     pickup_datetime    dropoff_datetime  \\\n",
       "378     id1347533          1 2016-05-27 18:09:01 2016-05-27 18:16:30   \n",
       "400     id2733049          1 2016-03-02 20:05:12 2016-03-02 20:52:52   \n",
       "501     id2484490          1 2016-01-21 08:07:13 2016-01-21 08:18:21   \n",
       "644     id2090829          1 2016-01-11 12:10:13 2016-01-11 12:25:41   \n",
       "1278    id0512889          1 2016-06-10 21:20:14 2016-06-10 21:26:51   \n",
       "...           ...        ...                 ...                 ...   \n",
       "728481  id0008273          1 2016-04-08 17:52:56 2016-04-08 18:35:36   \n",
       "728607  id3254730          1 2016-06-03 01:21:11 2016-06-03 01:30:16   \n",
       "729074  id1347803          1 2016-03-17 01:24:10 2016-03-17 01:35:25   \n",
       "729119  id2265972          1 2016-01-07 07:51:18 2016-01-07 07:51:41   \n",
       "729217  id2475363          1 2016-06-17 13:40:15 2016-06-17 13:47:04   \n",
       "\n",
       "       passenger_count  pickup_longitude  pickup_latitude  dropoff_longitude  \\\n",
       "378                  1        -73.976051        40.744671         -73.979721   \n",
       "400                  2        -73.978134        40.757484         -73.998955   \n",
       "501                  1        -73.999771        40.739487         -73.983940   \n",
       "644                  2        -74.013611        40.714310         -73.976601   \n",
       "1278                 1        -73.958183        40.766190         -73.956032   \n",
       "...                ...               ...              ...                ...   \n",
       "728481               1        -73.969627        40.760384         -73.862061   \n",
       "728607               1        -74.004692        40.751846         -74.004860   \n",
       "729074               1        -73.988808        40.723038         -73.997543   \n",
       "729119               3        -73.782356        40.644211         -73.782364   \n",
       "729217               1        -73.985519        40.747314         -73.974854   \n",
       "\n",
       "        dropoff_latitude store_and_fwd_flag  trip_duration   distance  \\\n",
       "378            40.722958                  Y            449   2.431075   \n",
       "400            40.614380                  Y           2860  15.988620   \n",
       "501            40.761421                  Y            668   2.778597   \n",
       "644            40.751938                  Y            928   5.218684   \n",
       "1278           40.782814                  Y            397   1.855051   \n",
       "...                  ...                ...            ...        ...   \n",
       "728481         40.768559                  Y           2560   9.127552   \n",
       "728607         40.735130                  Y            545   1.856349   \n",
       "729074         40.695587                  Y            675   3.136447   \n",
       "729119         40.644211                  Y             23   0.000645   \n",
       "729217         40.755192                  Y            409   1.255613   \n",
       "\n",
       "            speed   day_name month day_num pickup_hour  flag_N  flag_Y  \\\n",
       "378     19.491919     Friday     5       4          18       0       1   \n",
       "400     20.125535  Wednesday     3       2          20       0       1   \n",
       "501     14.974478   Thursday     1       3           8       0       1   \n",
       "644     20.244895     Monday     1       0          12       0       1   \n",
       "1278    16.821622     Friday     6       4          21       0       1   \n",
       "...           ...        ...   ...     ...         ...     ...     ...   \n",
       "728481  12.835620     Friday     4       4          17       0       1   \n",
       "728607  12.262121     Friday     6       4           1       0       1   \n",
       "729074  16.727715   Thursday     3       3           1       0       1   \n",
       "729119   0.101010   Thursday     1       3           7       0       1   \n",
       "729217  11.051849     Friday     6       4          13       0       1   \n",
       "\n",
       "        vendor_id_1  vendor_id_2  month_1  month_2  month_3  month_4  month_5  \\\n",
       "378               1            0        0        0        0        0        1   \n",
       "400               1            0        0        0        1        0        0   \n",
       "501               1            0        1        0        0        0        0   \n",
       "644               1            0        1        0        0        0        0   \n",
       "1278              1            0        0        0        0        0        0   \n",
       "...             ...          ...      ...      ...      ...      ...      ...   \n",
       "728481            1            0        0        0        0        1        0   \n",
       "728607            1            0        0        0        0        0        0   \n",
       "729074            1            0        0        0        1        0        0   \n",
       "729119            1            0        1        0        0        0        0   \n",
       "729217            1            0        0        0        0        0        0   \n",
       "\n",
       "        month_6  day_num_0  day_num_1  day_num_2  day_num_3  day_num_4  \\\n",
       "378           0          0          0          0          0          1   \n",
       "400           0          0          0          1          0          0   \n",
       "501           0          0          0          0          1          0   \n",
       "644           0          1          0          0          0          0   \n",
       "1278          1          0          0          0          0          1   \n",
       "...         ...        ...        ...        ...        ...        ...   \n",
       "728481        0          0          0          0          0          1   \n",
       "728607        1          0          0          0          0          1   \n",
       "729074        0          0          0          0          1          0   \n",
       "729119        0          0          0          0          1          0   \n",
       "729217        1          0          0          0          0          1   \n",
       "\n",
       "        day_num_5  day_num_6  pickup_hour_0  pickup_hour_1  pickup_hour_2  \\\n",
       "378             0          0              0              0              0   \n",
       "400             0          0              0              0              0   \n",
       "501             0          0              0              0              0   \n",
       "644             0          0              0              0              0   \n",
       "1278            0          0              0              0              0   \n",
       "...           ...        ...            ...            ...            ...   \n",
       "728481          0          0              0              0              0   \n",
       "728607          0          0              0              1              0   \n",
       "729074          0          0              0              1              0   \n",
       "729119          0          0              0              0              0   \n",
       "729217          0          0              0              0              0   \n",
       "\n",
       "        pickup_hour_3  pickup_hour_4  pickup_hour_5  pickup_hour_6  \\\n",
       "378                 0              0              0              0   \n",
       "400                 0              0              0              0   \n",
       "501                 0              0              0              0   \n",
       "644                 0              0              0              0   \n",
       "1278                0              0              0              0   \n",
       "...               ...            ...            ...            ...   \n",
       "728481              0              0              0              0   \n",
       "728607              0              0              0              0   \n",
       "729074              0              0              0              0   \n",
       "729119              0              0              0              0   \n",
       "729217              0              0              0              0   \n",
       "\n",
       "        pickup_hour_7  pickup_hour_8  pickup_hour_9  pickup_hour_10  \\\n",
       "378                 0              0              0               0   \n",
       "400                 0              0              0               0   \n",
       "501                 0              1              0               0   \n",
       "644                 0              0              0               0   \n",
       "1278                0              0              0               0   \n",
       "...               ...            ...            ...             ...   \n",
       "728481              0              0              0               0   \n",
       "728607              0              0              0               0   \n",
       "729074              0              0              0               0   \n",
       "729119              1              0              0               0   \n",
       "729217              0              0              0               0   \n",
       "\n",
       "        pickup_hour_11  pickup_hour_12  pickup_hour_13  pickup_hour_14  \\\n",
       "378                  0               0               0               0   \n",
       "400                  0               0               0               0   \n",
       "501                  0               0               0               0   \n",
       "644                  0               1               0               0   \n",
       "1278                 0               0               0               0   \n",
       "...                ...             ...             ...             ...   \n",
       "728481               0               0               0               0   \n",
       "728607               0               0               0               0   \n",
       "729074               0               0               0               0   \n",
       "729119               0               0               0               0   \n",
       "729217               0               0               1               0   \n",
       "\n",
       "        pickup_hour_15  pickup_hour_16  pickup_hour_17  pickup_hour_18  \\\n",
       "378                  0               0               0               1   \n",
       "400                  0               0               0               0   \n",
       "501                  0               0               0               0   \n",
       "644                  0               0               0               0   \n",
       "1278                 0               0               0               0   \n",
       "...                ...             ...             ...             ...   \n",
       "728481               0               0               1               0   \n",
       "728607               0               0               0               0   \n",
       "729074               0               0               0               0   \n",
       "729119               0               0               0               0   \n",
       "729217               0               0               0               0   \n",
       "\n",
       "        pickup_hour_19  pickup_hour_20  pickup_hour_21  pickup_hour_22  \\\n",
       "378                  0               0               0               0   \n",
       "400                  0               1               0               0   \n",
       "501                  0               0               0               0   \n",
       "644                  0               0               0               0   \n",
       "1278                 0               0               1               0   \n",
       "...                ...             ...             ...             ...   \n",
       "728481               0               0               0               0   \n",
       "728607               0               0               0               0   \n",
       "729074               0               0               0               0   \n",
       "729119               0               0               0               0   \n",
       "729217               0               0               0               0   \n",
       "\n",
       "        pickup_hour_23  passenger_count_0  passenger_count_1  \\\n",
       "378                  0                  0                  1   \n",
       "400                  0                  0                  0   \n",
       "501                  0                  0                  1   \n",
       "644                  0                  0                  0   \n",
       "1278                 0                  0                  1   \n",
       "...                ...                ...                ...   \n",
       "728481               0                  0                  1   \n",
       "728607               0                  0                  1   \n",
       "729074               0                  0                  1   \n",
       "729119               0                  0                  0   \n",
       "729217               0                  0                  1   \n",
       "\n",
       "        passenger_count_2  passenger_count_3  passenger_count_4  \\\n",
       "378                     0                  0                  0   \n",
       "400                     1                  0                  0   \n",
       "501                     0                  0                  0   \n",
       "644                     1                  0                  0   \n",
       "1278                    0                  0                  0   \n",
       "...                   ...                ...                ...   \n",
       "728481                  0                  0                  0   \n",
       "728607                  0                  0                  0   \n",
       "729074                  0                  0                  0   \n",
       "729119                  0                  1                  0   \n",
       "729217                  0                  0                  0   \n",
       "\n",
       "        passenger_count_5  passenger_count_6  passenger_count_7  \\\n",
       "378                     0                  0                  0   \n",
       "400                     0                  0                  0   \n",
       "501                     0                  0                  0   \n",
       "644                     0                  0                  0   \n",
       "1278                    0                  0                  0   \n",
       "...                   ...                ...                ...   \n",
       "728481                  0                  0                  0   \n",
       "728607                  0                  0                  0   \n",
       "729074                  0                  0                  0   \n",
       "729119                  0                  0                  0   \n",
       "729217                  0                  0                  0   \n",
       "\n",
       "        passenger_count_9  check_trip_duration  \n",
       "378                     0                449.0  \n",
       "400                     0               2860.0  \n",
       "501                     0                668.0  \n",
       "644                     0                928.0  \n",
       "1278                    0                397.0  \n",
       "...                   ...                  ...  \n",
       "728481                  0               2560.0  \n",
       "728607                  0                545.0  \n",
       "729074                  0                675.0  \n",
       "729119                  0                 23.0  \n",
       "729217                  0                409.0  \n",
       "\n",
       "[4040 rows x 68 columns]"
      ]
     },
     "execution_count": 33,
     "metadata": {},
     "output_type": "execute_result"
    }
   ],
   "source": [
    "data[data.flag_Y == 1] # a closer look at the data"
   ]
  },
  {
   "cell_type": "markdown",
   "id": "5fe6483e",
   "metadata": {},
   "source": [
    "**Much of the variable looks similar in distribution expect for vendor column**"
   ]
  },
  {
   "cell_type": "code",
   "execution_count": 34,
   "id": "05cb7826",
   "metadata": {},
   "outputs": [
    {
     "data": {
      "text/plain": [
       "1    4040\n",
       "Name: vendor_id, dtype: int64"
      ]
     },
     "execution_count": 34,
     "metadata": {},
     "output_type": "execute_result"
    }
   ],
   "source": [
    "data.vendor_id[data.flag_Y == 1].value_counts()"
   ]
  },
  {
   "cell_type": "markdown",
   "id": "ae270c8e",
   "metadata": {},
   "source": [
    "**Interestingly we can see that vendor 1 has all the offline trip data and comparing it with the market share of vendor 2 being dominant. vendor 1 must be using less advanced technology and poor infrastructure**"
   ]
  },
  {
   "cell_type": "markdown",
   "id": "783e6e3e",
   "metadata": {},
   "source": [
    "## Trips per each week day\n",
    "<a id='plot_1'></a>"
   ]
  },
  {
   "cell_type": "code",
   "execution_count": 35,
   "id": "0ed9123c",
   "metadata": {},
   "outputs": [
    {
     "data": {
      "text/plain": [
       "Text(0.5, 0, 'day of week')"
      ]
     },
     "execution_count": 35,
     "metadata": {},
     "output_type": "execute_result"
    },
    {
     "data": {
      "image/png": "[encoded data removed]",
      "text/plain": [
       "<Figure size 640x480 with 1 Axes>"
      ]
     },
     "metadata": {},
     "output_type": "display_data"
    }
   ],
   "source": [
    "sns.countplot(data.day_num)\n",
    "plt.ylabel(\"total trips\")\n",
    "plt.xlabel(\"day of week\")"
   ]
  },
  {
   "cell_type": "markdown",
   "id": "ec379814",
   "metadata": {},
   "source": [
    "**The trend is that there is increasing number of trips starting from monday to saturday and decreasing from saturday to monday. clearly because people taking rest during weekends and staying at home**"
   ]
  },
  {
   "cell_type": "markdown",
   "id": "5e2770fd",
   "metadata": {},
   "source": [
    "## Trips per each month\n",
    "<a id='plot_2'></a>"
   ]
  },
  {
   "cell_type": "code",
   "execution_count": 36,
   "id": "88654ec0",
   "metadata": {},
   "outputs": [
    {
     "data": {
      "text/plain": [
       "Text(0, 0.5, 'total trips')"
      ]
     },
     "execution_count": 36,
     "metadata": {},
     "output_type": "execute_result"
    },
    {
     "data": {
      "image/png": "[encoded data removed]",
      "text/plain": [
       "<Figure size 640x480 with 1 Axes>"
      ]
     },
     "metadata": {},
     "output_type": "display_data"
    }
   ],
   "source": [
    "sns.countplot(data.month)\n",
    "plt.ylabel(\"total trips\")"
   ]
  },
  {
   "cell_type": "markdown",
   "id": "b82c041d",
   "metadata": {},
   "source": [
    "**The dataset given is spread across only six months but is spread evenly across the most months. From a seasonal point of view  the six months are spread across winter (jan,feb,march) and spring (april,may,june). We can say that there is a small rise in trips as we approach spring and decreases with may and june which are wetter months**"
   ]
  },
  {
   "cell_type": "markdown",
   "id": "2349aba6",
   "metadata": {},
   "source": [
    "## Trips per hour"
   ]
  },
  {
   "cell_type": "code",
   "execution_count": 37,
   "id": "39d590b6",
   "metadata": {},
   "outputs": [
    {
     "data": {
      "text/plain": [
       "Text(0, 0.5, 'total trips')"
      ]
     },
     "execution_count": 37,
     "metadata": {},
     "output_type": "execute_result"
    },
    {
     "data": {
      "image/png": "[encoded data removed]",
      "text/plain": [
       "<Figure size 640x480 with 1 Axes>"
      ]
     },
     "metadata": {},
     "output_type": "display_data"
    }
   ],
   "source": [
    "sns.countplot(data.pickup_hour)\n",
    "plt.ylabel(\"total trips\")"
   ]
  },
  {
   "cell_type": "markdown",
   "id": "7e51544f",
   "metadata": {},
   "source": [
    "**The pattern of trips is predictale as the most busiet hours are in the evening when most office and school hours end and we can see the increse in trip from morning 6 am and the decline in trips starting at 8 pm**"
   ]
  },
  {
   "cell_type": "markdown",
   "id": "b5ca1fde",
   "metadata": {},
   "source": [
    "## Distance"
   ]
  },
  {
   "cell_type": "code",
   "execution_count": 38,
   "id": "11730673",
   "metadata": {},
   "outputs": [
    {
     "data": {
      "text/plain": [
       "count    729322.000000\n",
       "mean          3.442464\n",
       "std           4.356668\n",
       "min           0.000000\n",
       "25%           1.233153\n",
       "50%           2.096073\n",
       "75%           3.875828\n",
       "max        1240.510256\n",
       "Name: distance, dtype: float64"
      ]
     },
     "execution_count": 38,
     "metadata": {},
     "output_type": "execute_result"
    }
   ],
   "source": [
    "data.distance.describe()"
   ]
  },
  {
   "cell_type": "code",
   "execution_count": 39,
   "id": "f2d0594b",
   "metadata": {},
   "outputs": [
    {
     "data": {
      "text/plain": [
       "Text(0.5, 0, 'distance')"
      ]
     },
     "execution_count": 39,
     "metadata": {},
     "output_type": "execute_result"
    },
    {
     "data": {
      "image/png": "[encoded data removed]",
      "text/plain": [
       "<Figure size 1000x1000 with 1 Axes>"
      ]
     },
     "metadata": {},
     "output_type": "display_data"
    }
   ],
   "source": [
    "plt.figure(figsize = (10,10))\n",
    "sns.boxplot(data.distance)\n",
    "plt.xlabel(\"distance\")"
   ]
  },
  {
   "cell_type": "markdown",
   "id": "63668b4f",
   "metadata": {},
   "source": [
    "- **There seem to be outliers with trip distances of 0 km and also some with distances of over 200 km**\n",
    "- **The mean distance travelled is about 3.4 km**\n",
    "- **The standard deviation is 4.35 km which suggest trips are in between 1 - 10 Km**"
   ]
  },
  {
   "cell_type": "code",
   "execution_count": 40,
   "id": "3d86b0a2",
   "metadata": {},
   "outputs": [
    {
     "data": {
      "text/plain": [
       "0.0    2901\n",
       "Name: distance, dtype: int64"
      ]
     },
     "execution_count": 40,
     "metadata": {},
     "output_type": "execute_result"
    }
   ],
   "source": [
    "data.distance[data.distance == 0].value_counts()"
   ]
  },
  {
   "cell_type": "markdown",
   "id": "76b2028a",
   "metadata": {},
   "source": [
    "**There seems to be about 2.9 k trips with zero distance which could be caused due to human error, software issues, GPS not working**"
   ]
  },
  {
   "cell_type": "markdown",
   "id": "f438f4a4",
   "metadata": {},
   "source": [
    "## Trip Duration ##"
   ]
  },
  {
   "cell_type": "code",
   "execution_count": 41,
   "id": "ae95fe8d",
   "metadata": {},
   "outputs": [],
   "source": [
    "#duration in minutes can be better interpreted\n",
    "\n",
    "data[\"trip_duration_min\"] = data.trip_duration/60"
   ]
  },
  {
   "cell_type": "code",
   "execution_count": 42,
   "id": "8e230ca1",
   "metadata": {},
   "outputs": [
    {
     "data": {
      "text/plain": [
       "count    729322.000000\n",
       "mean         15.870486\n",
       "std          64.410437\n",
       "min           0.016667\n",
       "25%           6.616667\n",
       "50%          11.050000\n",
       "75%          17.916667\n",
       "max       32328.933333\n",
       "Name: trip_duration_min, dtype: float64"
      ]
     },
     "execution_count": 42,
     "metadata": {},
     "output_type": "execute_result"
    }
   ],
   "source": [
    "data.trip_duration_min.describe()"
   ]
  },
  {
   "cell_type": "code",
   "execution_count": 43,
   "id": "0922c3f8",
   "metadata": {
    "scrolled": true
   },
   "outputs": [
    {
     "data": {
      "text/plain": [
       "Text(0.5, 0, 'trip duration (in min)')"
      ]
     },
     "execution_count": 43,
     "metadata": {},
     "output_type": "execute_result"
    },
    {
     "data": {
      "image/png": "[encoded data removed]",
      "text/plain": [
       "<Figure size 1000x500 with 1 Axes>"
      ]
     },
     "metadata": {},
     "output_type": "display_data"
    }
   ],
   "source": [
    "plt.figure(figsize = (10,5))\n",
    "sns.boxplot(data.trip_duration_min)\n",
    "plt.xlabel(\"trip duration (in min)\")"
   ]
  },
  {
   "cell_type": "markdown",
   "id": "33534cef",
   "metadata": {},
   "source": [
    "**Some trip occur over 30000 min( which are outliers**\n",
    "\n",
    "**Though there are occurences of low time duration most of the trips are taking between 10 and 20 minutes**\n"
   ]
  },
  {
   "cell_type": "markdown",
   "id": "4a0f36e6",
   "metadata": {},
   "source": [
    "## Speed ##\n"
   ]
  },
  {
   "cell_type": "code",
   "execution_count": 44,
   "id": "5ae8e348",
   "metadata": {},
   "outputs": [
    {
     "data": {
      "text/plain": [
       "count    729322.000000\n",
       "mean         14.424310\n",
       "std          12.343552\n",
       "min           0.000000\n",
       "25%           9.127319\n",
       "50%          12.799458\n",
       "75%          17.844018\n",
       "max        5638.682980\n",
       "Name: speed, dtype: float64"
      ]
     },
     "execution_count": 44,
     "metadata": {},
     "output_type": "execute_result"
    }
   ],
   "source": [
    "data.speed.describe()"
   ]
  },
  {
   "cell_type": "code",
   "execution_count": 45,
   "id": "c0004848",
   "metadata": {
    "scrolled": true
   },
   "outputs": [
    {
     "data": {
      "text/plain": [
       "Text(0.5, 0, 'speed')"
      ]
     },
     "execution_count": 45,
     "metadata": {},
     "output_type": "execute_result"
    },
    {
     "data": {
      "image/png": "[encoded data removed]",
      "text/plain": [
       "<Figure size 1000x500 with 1 Axes>"
      ]
     },
     "metadata": {},
     "output_type": "display_data"
    }
   ],
   "source": [
    "plt.figure(figsize = (10,5))\n",
    "sns.boxplot(data.speed)\n",
    "plt.xlabel(\"speed\")"
   ]
  },
  {
   "cell_type": "markdown",
   "id": "e0f39316",
   "metadata": {},
   "source": [
    "**There are some records with high speed which are way more than 100 km/h. For a normal vechical in NYC even in highway the speed limit is around 100 km/h**"
   ]
  },
  {
   "cell_type": "code",
   "execution_count": 46,
   "id": "2207bf64",
   "metadata": {},
   "outputs": [
    {
     "data": {
      "text/plain": [
       "Text(0.5, 0, 'speed')"
      ]
     },
     "execution_count": 46,
     "metadata": {},
     "output_type": "execute_result"
    },
    {
     "data": {
      "image/png": "[encoded data removed]",
      "text/plain": [
       "<Figure size 2000x500 with 1 Axes>"
      ]
     },
     "metadata": {},
     "output_type": "display_data"
    }
   ],
   "source": [
    "data = data[data.speed <= 100]\n",
    "plt.figure(figsize = (20,5))\n",
    "sns.boxplot(data.speed)\n",
    "plt.xlabel(\"speed\")"
   ]
  },
  {
   "cell_type": "markdown",
   "id": "6be34eb9",
   "metadata": {},
   "source": [
    "- **Trips which are over 30 km/h are being considered as outliers but they under the highest speed limit of 104 km/h on state controlled highways**\n",
    "\n",
    "- **Mostly trips are done at a speed range of 10-20 km/h with an average speed of around 14 km/h**\n"
   ]
  },
  {
   "cell_type": "code",
   "execution_count": null,
   "id": "b17d33dd",
   "metadata": {},
   "outputs": [],
   "source": []
  },
  {
   "cell_type": "markdown",
   "id": "5bbc3f7e",
   "metadata": {},
   "source": [
    "# Bivariate analysis"
   ]
  },
  {
   "cell_type": "markdown",
   "id": "813f4f7a",
   "metadata": {},
   "source": [
    " **Looking at different parameters relation with the target variable which is the trip duration**"
   ]
  },
  {
   "cell_type": "markdown",
   "id": "12d19ce5",
   "metadata": {},
   "source": [
    "## Trip duration per vendor"
   ]
  },
  {
   "cell_type": "code",
   "execution_count": 47,
   "id": "9dc6cf98",
   "metadata": {},
   "outputs": [
    {
     "data": {
      "text/plain": [
       "Text(0.5, 0, 'vendor')"
      ]
     },
     "execution_count": 47,
     "metadata": {},
     "output_type": "execute_result"
    },
    {
     "data": {
      "image/png": "[encoded data removed]",
      "text/plain": [
       "<Figure size 640x480 with 1 Axes>"
      ]
     },
     "metadata": {},
     "output_type": "display_data"
    }
   ],
   "source": [
    "group1 = data.groupby('vendor_id').trip_duration_min.mean()\n",
    "sns.barplot(group1.index, group1.values)\n",
    "plt.ylabel('Trip Duration (mins)')\n",
    "plt.xlabel('vendor')"
   ]
  },
  {
   "cell_type": "markdown",
   "id": "1a266381",
   "metadata": {},
   "source": [
    "**Vendor 2 who has the higher market share as we have seen before. This is also reflected in the greater average trip duration of about 4 mins per trip**"
   ]
  },
  {
   "cell_type": "markdown",
   "id": "1029df9c",
   "metadata": {},
   "source": [
    "## Trip duration per passenger count"
   ]
  },
  {
   "cell_type": "code",
   "execution_count": 48,
   "id": "583fc1c6",
   "metadata": {},
   "outputs": [
    {
     "data": {
      "image/png": "[encoded data removed]",
      "text/plain": [
       "<Figure size 2200x600 with 1 Axes>"
      ]
     },
     "metadata": {},
     "output_type": "display_data"
    }
   ],
   "source": [
    "data.passenger_count.value_counts()\n",
    "plt.figure(figsize=(22, 6))\n",
    "data_sub = data[data['trip_duration'] < 10000]\n",
    "sns.boxplot(x=\"passenger_count\", y=\"trip_duration\", data=data_sub)\n",
    "plt.show()"
   ]
  },
  {
   "cell_type": "markdown",
   "id": "afd03ae8",
   "metadata": {},
   "source": [
    "**There is not much of difference in distribution for passenger count except that for higher count we see a reduction of value of outliers**"
   ]
  },
  {
   "cell_type": "markdown",
   "id": "f3dc8595",
   "metadata": {},
   "source": [
    "## Trip duration per hour"
   ]
  },
  {
   "cell_type": "markdown",
   "id": "528a5722",
   "metadata": {},
   "source": [
    "**From the univariate analysis of trip duration, mean is acceptable to be take as measure to plot different patterns with other variable**"
   ]
  },
  {
   "cell_type": "code",
   "execution_count": 49,
   "id": "c5acf15c",
   "metadata": {},
   "outputs": [
    {
     "data": {
      "text/plain": [
       "Text(0.5, 0, 'Pickup Hour')"
      ]
     },
     "execution_count": 49,
     "metadata": {},
     "output_type": "execute_result"
    },
    {
     "data": {
      "image/png": "[encoded data removed]",
      "text/plain": [
       "<Figure size 640x480 with 1 Axes>"
      ]
     },
     "metadata": {},
     "output_type": "display_data"
    }
   ],
   "source": [
    "group3 = data.groupby('pickup_hour').trip_duration_min.mean()\n",
    "sns.lineplot(group3.index, group3.values)\n",
    "plt.ylabel('Trip Duration (min)')\n",
    "plt.xlabel('Pickup Hour')\n"
   ]
  },
  {
   "cell_type": "markdown",
   "id": "02c9a4a8",
   "metadata": {},
   "source": [
    "- **mean trip duration is lowest during early morning hours of about 6 AM cause of low traffic**\n",
    "- **highest spike in graph denotes maximum mean trip duration which is at 3 PM during office and school close hours**\n"
   ]
  },
  {
   "cell_type": "markdown",
   "id": "2bf8cd47",
   "metadata": {},
   "source": [
    "## Trip duration per day of week"
   ]
  },
  {
   "cell_type": "code",
   "execution_count": 50,
   "id": "45937baf",
   "metadata": {},
   "outputs": [
    {
     "data": {
      "text/plain": [
       "Text(0.5, 0, 'day of week')"
      ]
     },
     "execution_count": 50,
     "metadata": {},
     "output_type": "execute_result"
    },
    {
     "data": {
      "image/png": "[encoded data removed]",
      "text/plain": [
       "<Figure size 640x480 with 1 Axes>"
      ]
     },
     "metadata": {},
     "output_type": "display_data"
    }
   ],
   "source": [
    "group4 = data.groupby('day_num').trip_duration_min.mean()\n",
    "sns.lineplot(group4.index, group4.values)\n",
    "plt.ylabel('Trip Duration (mins)')\n",
    "plt.xlabel('day of week')"
   ]
  },
  {
   "cell_type": "markdown",
   "id": "144ce945",
   "metadata": {},
   "source": [
    "**The trip duration is almost equally distributed across the week on a scale between 15 and 16.75 minutes with small difference in the duration times. Also, it is observed that trip duration on thursday is longest among all days.If we look at the trips per day of week plot give above we can see that the increase is traffic is indeed due to more traffic**\n",
    "\n",
    "\n",
    "[plot reference1](#plot_1)"
   ]
  },
  {
   "cell_type": "markdown",
   "id": "6c20f596",
   "metadata": {},
   "source": [
    "## Trip duration per month"
   ]
  },
  {
   "cell_type": "code",
   "execution_count": 51,
   "id": "d7a635f8",
   "metadata": {
    "scrolled": true
   },
   "outputs": [
    {
     "data": {
      "text/plain": [
       "Text(0.5, 0, 'Month')"
      ]
     },
     "execution_count": 51,
     "metadata": {},
     "output_type": "execute_result"
    },
    {
     "data": {
      "image/png": "[encoded data removed]",
      "text/plain": [
       "<Figure size 640x480 with 1 Axes>"
      ]
     },
     "metadata": {},
     "output_type": "display_data"
    }
   ],
   "source": [
    "group5 = data.groupby('month').trip_duration_min.mean()\n",
    "sns.lineplot(group5.index, group5.values)\n",
    "plt.ylabel('Trip Duration (mins)')\n",
    "plt.xlabel('Month')"
   ]
  },
  {
   "cell_type": "markdown",
   "id": "1de8871b",
   "metadata": {},
   "source": [
    "- **There is an increasing trend in the average trip duration with everymonth. It has increased gradually over a period of 6 months with not much difference**\n",
    "- **It is lowest during february when spring starts**\n",
    "- **Increase in trip duration on month may and june can be attributed due to being the wettest months while april and may record more trips by the plots above**\n",
    "\n",
    "[Plot reference 2](#plot_2)."
   ]
  },
  {
   "cell_type": "markdown",
   "id": "8543f2b4",
   "metadata": {},
   "source": [
    "## Trip duration against Distance\n"
   ]
  },
  {
   "cell_type": "code",
   "execution_count": 52,
   "id": "dd751004",
   "metadata": {},
   "outputs": [
    {
     "data": {
      "text/plain": [
       "Text(0.5, 0, 'Distance')"
      ]
     },
     "execution_count": 52,
     "metadata": {},
     "output_type": "execute_result"
    },
    {
     "data": {
      "image/png": "[encoded data removed]",
      "text/plain": [
       "<Figure size 1000x800 with 1 Axes>"
      ]
     },
     "metadata": {},
     "output_type": "display_data"
    }
   ],
   "source": [
    "plt.figure(figsize = (10,8))\n",
    "group6 = data.groupby('distance').trip_duration_min.mean()\n",
    "plt.scatter(group6.index, group6.values)\n",
    "plt.ylabel('Trip Duration (min)')\n",
    "plt.xlabel('Distance')"
   ]
  },
  {
   "cell_type": "markdown",
   "id": "3e29773d",
   "metadata": {},
   "source": [
    "- **A lots of trips which covered negligible distance but we see some with a trip duration with over 30000 min**\n",
    "- **There is some proper correlation between the distance covered and the trip duration in the graph but later on there were few trips which covered huge distance of approx 200 kms within very less time frame, which is unlikely and should be treated as outliers**"
   ]
  },
  {
   "cell_type": "code",
   "execution_count": 53,
   "id": "c4a47681",
   "metadata": {},
   "outputs": [
    {
     "data": {
      "text/plain": [
       "Text(0, 0.5, 'Trip Duration')"
      ]
     },
     "execution_count": 53,
     "metadata": {},
     "output_type": "execute_result"
    },
    {
     "data": {
      "image/png": "[encoded data removed]",
      "text/plain": [
       "<Figure size 640x480 with 1 Axes>"
      ]
     },
     "metadata": {},
     "output_type": "display_data"
    }
   ],
   "source": [
    "dur_dist = data.loc[(data.distance < 110) & (data.trip_duration_min < 20), ['distance','trip_duration']]\n",
    "plt.scatter( dur_dist.distance, dur_dist.trip_duration, s= 2, alpha = .5)\n",
    "plt.xlabel('Distance')\n",
    "plt.ylabel('Trip Duration')\n"
   ]
  },
  {
   "cell_type": "markdown",
   "id": "822d1286",
   "metadata": {},
   "source": [
    "- **There is a linear relationship between the distance covered and trip duration on an average but we can see dense collection of the trips in the lower right corner which have zero duration and under a minute of trip duration thus these are inconsistent readings**"
   ]
  },
  {
   "cell_type": "markdown",
   "id": "5ae22c4b",
   "metadata": {},
   "source": [
    "### Correlation Heatmap\n",
    "\n",
    "Looking at the correlation between all features"
   ]
  },
  {
   "cell_type": "code",
   "execution_count": 54,
   "id": "894008b4",
   "metadata": {},
   "outputs": [
    {
     "data": {
      "image/png": "[encoded data removed]",
      "text/plain": [
       "<Figure size 1200x600 with 2 Axes>"
      ]
     },
     "metadata": {},
     "output_type": "display_data"
    }
   ],
   "source": [
    "plt.figure(figsize=(12, 6))\n",
    "datap = datacp.drop(['id', 'pickup_datetime', 'dropoff_datetime',\n",
    "       'passenger_count','month'],\n",
    "        axis=1)\n",
    "corr = datap.apply(lambda x: pd.factorize(x)[0]).corr()\n",
    "ax = sns.heatmap(corr, xticklabels=corr.columns, yticklabels=corr.columns, \n",
    "                 linewidths=.2, cmap=\"YlGnBu\")"
   ]
  },
  {
   "cell_type": "markdown",
   "id": "b2be1485",
   "metadata": {},
   "source": [
    "## Conclusions\n",
    "\n",
    "- Vendor 2 has a edge over the number of trips made by about 8%\n",
    "- Majority of trips are with 1 or 2 passengers.we can see that there are outliers of 7 and 9 passengers\n",
    "- Some trip occur over 30000 min( which are outliers)\n",
    "- There are some records with high speed of 200 km/h which are outliers\n",
    "- Some outliers in distance covered at above 1000km\n",
    "- The most busiet hours are in the evening \n",
    "- Weekends have lesser trips than weekday with maximum trips on thurday\n",
    "- There is not much of difference in distribution for passenger count except that for higher count we see a reduction of value of outliers\n",
    "- There is a linear relationship between the distance covered and trip duration on an average but we can see dense collection of the trips in the lower right corner which have zero duration and under a minute of trip duration thus these are inconsistent readingS\n",
    "- Trip duration is lowest during february when spring starts and also increase in trip duration on month may and june can be attributed due to being the wettest months while april and may"
   ]
  }
 ],
 "metadata": {
  "kernelspec": {
   "display_name": "Python 3.9.12 ('av')",
   "language": "python",
   "name": "python3"
  },
  "language_info": {
   "codemirror_mode": {
    "name": "ipython",
    "version": 3
   },
   "file_extension": ".py",
   "mimetype": "text/x-python",
   "name": "python",
   "nbconvert_exporter": "python",
   "pygments_lexer": "ipython3",
   "version": "3.9.12"
  },
  "vscode": {
   "interpreter": {
    "hash": "440a55496de0bf34155db44885f997983cfd7ceae9392a3b306a75b145d42614"
   }
  }
 },
 "nbformat": 4,
 "nbformat_minor": 5
}
